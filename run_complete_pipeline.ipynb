{
 "cells": [
  {
   "cell_type": "code",
   "execution_count": 1,
   "metadata": {},
   "outputs": [],
   "source": [
    "from main_dspm_function import run_dspm\n",
    "from main_lcmv_function import run_lcmv\n",
    "import matplotlib.pyplot as plt\n",
    "import numpy as np"
   ]
  },
  {
   "cell_type": "code",
   "execution_count": 2,
   "metadata": {},
   "outputs": [],
   "source": [
    "# iSubjects = np.delete(np.arange(1, 16), [6, 7])\n",
    "iSubjects = [7]"
   ]
  },
  {
   "cell_type": "code",
   "execution_count": 3,
   "metadata": {},
   "outputs": [
    {
     "name": "stdout",
     "output_type": "stream",
     "text": [
      "Running dSPM for sub-07\n",
      "Filtering raw data in 1 contiguous segment\n",
      "Setting up band-pass filter from 2 - 40 Hz\n",
      "\n",
      "FIR filter parameters\n",
      "---------------------\n",
      "Designing a one-pass, zero-phase, non-causal bandpass filter:\n",
      "- Windowed time-domain design (firwin) method\n",
      "- Hamming window with 0.0194 passband ripple and 53 dB stopband attenuation\n",
      "- Lower passband edge: 2.00\n",
      "- Lower transition bandwidth: 2.00 Hz (-6 dB cutoff frequency: 1.00 Hz)\n",
      "- Upper passband edge: 40.00 Hz\n",
      "- Upper transition bandwidth: 10.00 Hz (-6 dB cutoff frequency: 45.00 Hz)\n",
      "- Filter length: 1651 samples (1.651 sec)\n",
      "\n"
     ]
    },
    {
     "name": "stderr",
     "output_type": "stream",
     "text": [
      "/Users/chholak/python/PicName/main_dspm_function.py:100: RuntimeWarning: The unit for channel(s) STI101, STI201, STI301 has changed from V to NA.\n",
      "  extra_params=dict(allow_maxshield=False, preload=True))\n",
      "/Users/chholak/anaconda3/lib/python3.7/site-packages/mne_bids/utils.py:635: UserWarning: Did not find any electrodes.tsv file associated with sub-07_ses-01_task-picturenaming_run-01_meg.fif.\n",
      "\n",
      "The search_str was \"/Users/chholak/data/pic-name-data-bids/MEG/sub-07/**/sub-07_ses-01*electrodes.tsv\"\n",
      "  warnings.warn(msg)\n"
     ]
    },
    {
     "name": "stdout",
     "output_type": "stream",
     "text": [
      "111 matching events found\n",
      "Applying baseline correction (mode: mean)\n",
      "Not setting metadata\n",
      "Created an SSP operator (subspace dimension = 13)\n",
      "Loading data for 111 events and 1501 original time points ...\n",
      "0 bad epochs dropped\n",
      "Removed trials: [ 19.  31.  70.  82. 105. 107.]\n",
      "\n",
      "Dropped 6 epochs: 19.0, 31.0, 70.0, 82.0, 105.0, 107.0\n",
      "Leadfield size : 306 sensors x 24588 dipoles\n",
      "Computing rank from data with rank='info'\n",
      "    MEG: rank 293 after 13 projectors applied to 306 channels\n",
      "    Created an SSP operator (subspace dimension = 13)\n",
      "    Setting small MEG eigenvalues to zero (without PCA)\n",
      "Reducing data rank from 306 -> 293\n",
      "Estimating covariance using EMPIRICAL\n",
      "Done.\n",
      "Number of samples used : 52605\n",
      "[done]\n",
      "Absolute source peaked at = 0.605\n",
      "Preparing the inverse operator for use...\n",
      "    Scaled noise and source covariance from nave = 1 to nave = 105\n",
      "    Created the regularized inverter\n",
      "    Created an SSP operator (subspace dimension = 13)\n",
      "    Created the whitener using a noise covariance matrix with rank 291 (15 small eigenvalues omitted)\n",
      "Picked 306 channels from the data\n",
      "Effective nchan = 306 - 15 = 291\n"
     ]
    },
    {
     "name": "stderr",
     "output_type": "stream",
     "text": [
      "/Users/chholak/python/PicName/main_dspm_function.py:187: RuntimeWarning: SNR estimation did not converge\n",
      "  snr, _ = estimate_snr(evoked, inverse_operator, verbose=True)\n"
     ]
    },
    {
     "name": "stdout",
     "output_type": "stream",
     "text": [
      "\n",
      "Max SNR at 0.788 s : 106.650\n",
      "colormap sequential: [4.00e+00, 7.00e+00, 1.00e+01] (transparent)\n"
     ]
    },
    {
     "name": "stderr",
     "output_type": "stream",
     "text": [
      "/Users/chholak/python/PicName/main_dspm_function.py:228: UserWarning: Creating legend with loc=\"best\" can be slow with large amounts of data.\n",
      "  plt.savefig(op.join(par['res_dir'], 'evoked_label_' + subject + '.pdf'))\n",
      "/Users/chholak/python/PicName/main_dspm_function.py:228: UserWarning: Creating legend with loc=\"best\" can be slow with large amounts of data.\n",
      "  plt.savefig(op.join(par['res_dir'], 'evoked_label_' + subject + '.pdf'))\n",
      "/Users/chholak/anaconda3/lib/python3.7/site-packages/pyface/ui/qt4/gui.py:85: UserWarning: Creating legend with loc=\"best\" can be slow with large amounts of data.\n",
      "  QtCore.QCoreApplication.processEvents(events)\n"
     ]
    }
   ],
   "source": [
    "for iSub in iSubjects:\n",
    "#     print(\"Running LCMV for sub-%02d\" % iSub)\n",
    "#     run_lcmv(iSub)\n",
    "#     plt.close('all')\n",
    "    print(\"Running dSPM for sub-%02d\" % iSub)\n",
    "    run_dspm(iSub)\n",
    "    plt.close('all')"
   ]
  },
  {
   "cell_type": "code",
   "execution_count": null,
   "metadata": {},
   "outputs": [],
   "source": []
  }
 ],
 "metadata": {
  "kernelspec": {
   "display_name": "Python 3",
   "language": "python",
   "name": "python3"
  },
  "language_info": {
   "codemirror_mode": {
    "name": "ipython",
    "version": 3
   },
   "file_extension": ".py",
   "mimetype": "text/x-python",
   "name": "python",
   "nbconvert_exporter": "python",
   "pygments_lexer": "ipython3",
   "version": "3.7.6"
  }
 },
 "nbformat": 4,
 "nbformat_minor": 4
}

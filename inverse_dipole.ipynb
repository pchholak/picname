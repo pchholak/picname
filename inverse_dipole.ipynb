{
 "cells": [
  {
   "cell_type": "code",
   "execution_count": 1,
   "metadata": {},
   "outputs": [],
   "source": [
    "%matplotlib qt\n",
    "import matplotlib.pyplot as plt\n",
    "import os\n",
    "import numpy as np\n",
    "import mne\n",
    "from mne_bids import make_bids_basename\n",
    "\n",
    "mne.set_log_level('WARNING')"
   ]
  },
  {
   "cell_type": "code",
   "execution_count": 2,
   "metadata": {},
   "outputs": [],
   "source": [
    "sSub, session, task, run = '08', '01', 'picturenaming', '01'\n",
    "bids_basename = make_bids_basename(subject=sSub, session=session,\n",
    "                                  task=task, run=run)\n",
    "data_dir = '/Users/chholak/data/pic-name-data-bids/'\n",
    "data_path = data_dir + 'MEG/'\n",
    "bids_path = data_path + 'sub-' + sSub + '/ses-' + session + '/meg/'\n",
    "\n",
    "raw_fname = bids_path + bids_basename + '_meg.fif'\n",
    "epochs_fname = raw_fname.replace('_meg.fif', '-epo.fif')\n",
    "\n",
    "subjects_dir = os.path.join(data_dir, 'MRI/')\n",
    "subject = 'sub-' + sSub"
   ]
  },
  {
   "cell_type": "code",
   "execution_count": 6,
   "metadata": {},
   "outputs": [
    {
     "data": {
      "text/plain": [
       "'/Users/chholak/data/pic-name-data-bids/MEG/sub-08/ses-01/meg/sub-08-trans.fif'"
      ]
     },
     "execution_count": 6,
     "metadata": {},
     "output_type": "execute_result"
    }
   ],
   "source": [
    "trans_fname = os.path.join(bids_path, subject + '-trans.fif')\n",
    "trans_fname"
   ]
  },
  {
   "cell_type": "code",
   "execution_count": 7,
   "metadata": {},
   "outputs": [],
   "source": [
    "trans_fname = os.path.join(bids_path, subject + '-trans.fif')\n",
    "bem_fname = os.path.join(bids_path, subject + '-bem.fif')\n",
    "fname_surf_lh = os.path.join(subjects_dir, subject, 'surf', 'lh.white')"
   ]
  },
  {
   "cell_type": "code",
   "execution_count": 8,
   "metadata": {},
   "outputs": [
    {
     "data": {
      "text/plain": [
       "<ConductorModel  |  BEM (1 layer)>"
      ]
     },
     "execution_count": 8,
     "metadata": {},
     "output_type": "execute_result"
    }
   ],
   "source": [
    "bem = mne.bem.read_bem_solution(bem_fname)\n",
    "bem"
   ]
  },
  {
   "cell_type": "code",
   "execution_count": 9,
   "metadata": {},
   "outputs": [
    {
     "name": "stdout",
     "output_type": "stream",
     "text": [
      "Could not find the surface for head in the provided BEM model, looking in the subject directory.\n",
      "Using outer_skin.surf for head surface.\n",
      "Getting helmet for system 306m\n",
      "Using mayavi 3d backend.\n",
      "\n"
     ]
    }
   ],
   "source": [
    "info = mne.io.read_info(epochs_fname)\n",
    "fig = mne.viz.plot_alignment(info, trans_fname, subject=subject, dig=True,\n",
    "                            subjects_dir=subjects_dir, bem=bem, verbose=True);"
   ]
  },
  {
   "cell_type": "code",
   "execution_count": 36,
   "metadata": {},
   "outputs": [],
   "source": [
    "epochs = mne.read_epochs(epochs_fname)"
   ]
  },
  {
   "cell_type": "code",
   "execution_count": 37,
   "metadata": {},
   "outputs": [
    {
     "data": {
      "text/plain": [
       "<EpochsFIF  |   98 events (all good), -0.5 - 1 sec, baseline [-0.5, 0], ~351.3 MB, data loaded,\n",
       " 'picture': 98>"
      ]
     },
     "execution_count": 37,
     "metadata": {},
     "output_type": "execute_result"
    }
   ],
   "source": [
    "epochs.apply_proj()"
   ]
  },
  {
   "cell_type": "code",
   "execution_count": 38,
   "metadata": {},
   "outputs": [
    {
     "data": {
      "text/plain": [
       "<EpochsFIF  |   98 events (all good), -0.5 - 1 sec, baseline [-0.5, 0], ~349.0 MB, data loaded,\n",
       " 'picture': 98>"
      ]
     },
     "execution_count": 38,
     "metadata": {},
     "output_type": "execute_result"
    }
   ],
   "source": [
    "epochs.pick_types(meg=True, eeg=False)"
   ]
  },
  {
   "cell_type": "code",
   "execution_count": 39,
   "metadata": {},
   "outputs": [],
   "source": [
    "cov = mne.compute_covariance(epochs, rank='info')"
   ]
  },
  {
   "cell_type": "code",
   "execution_count": 40,
   "metadata": {},
   "outputs": [],
   "source": [
    "evoked = epochs.average()"
   ]
  },
  {
   "cell_type": "code",
   "execution_count": 41,
   "metadata": {},
   "outputs": [],
   "source": [
    "evoked.plot(spatial_colors=True, gfp=True);"
   ]
  },
  {
   "cell_type": "code",
   "execution_count": 42,
   "metadata": {},
   "outputs": [
    {
     "name": "stdout",
     "output_type": "stream",
     "text": [
      "<Dipole  |  n_times : 21, tmin : 0.130, tmax : 0.150>\n"
     ]
    }
   ],
   "source": [
    "evoked_crop = evoked.copy().crop(0.13, 0.15)\n",
    "dip, residual = mne.fit_dipole(evoked_crop, cov, bem_fname, trans_fname)\n",
    "\n",
    "print(dip)"
   ]
  },
  {
   "cell_type": "code",
   "execution_count": 43,
   "metadata": {},
   "outputs": [
    {
     "name": "stdout",
     "output_type": "stream",
     "text": [
      "[38.41608525 37.99503135 37.21918422 36.11700352 34.74175989 33.16057089\n",
      " 31.46213994 29.74880574 27.36795561 27.21824179 26.9306975  26.53454267\n",
      " 26.05738481 25.51977669 24.93696069 25.14492358 26.16572976 27.42347192\n",
      " 28.81815609 30.24125471 31.58416715]\n"
     ]
    }
   ],
   "source": [
    "print(dip.gof)"
   ]
  },
  {
   "cell_type": "code",
   "execution_count": 44,
   "metadata": {},
   "outputs": [],
   "source": [
    "dip.plot_locations(subject=subject, trans=trans_fname,\n",
    "                  subjects_dir=subjects_dir, mode='orthoview');"
   ]
  },
  {
   "cell_type": "code",
   "execution_count": 47,
   "metadata": {},
   "outputs": [
    {
     "name": "stderr",
     "output_type": "stream",
     "text": [
      "<ipython-input-47-ba37277b8543>:4: RuntimeWarning: Projection vector \"EOG-planar--0.200-0.200-PCA-01\" has magnitude 0.76 (should be unity), applying projector with 102/204 of the original channels available may be dangerous, consider recomputing and adding projection vectors for channels that are eventually used. If this is intentional, consider using info.normalize_proj()\n",
      "  cov, bem_fname, trans_fname)\n",
      "<ipython-input-47-ba37277b8543>:4: RuntimeWarning: Projection vector \"EOG-axial--0.200-0.200-PCA-01\" has magnitude 0.76 (should be unity), applying projector with 51/102 of the original channels available may be dangerous, consider recomputing and adding projection vectors for channels that are eventually used. If this is intentional, consider using info.normalize_proj()\n",
      "  cov, bem_fname, trans_fname)\n",
      "<ipython-input-47-ba37277b8543>:4: RuntimeWarning: Projection vector \"EOG-planar--0.200-0.200-PCA-01\" has magnitude 0.76 (should be unity), applying projector with 102/204 of the original channels available may be dangerous, consider recomputing and adding projection vectors for channels that are eventually used. If this is intentional, consider using info.normalize_proj()\n",
      "  cov, bem_fname, trans_fname)\n",
      "<ipython-input-47-ba37277b8543>:4: RuntimeWarning: Projection vector \"EOG-axial--0.200-0.200-PCA-01\" has magnitude 0.76 (should be unity), applying projector with 51/102 of the original channels available may be dangerous, consider recomputing and adding projection vectors for channels that are eventually used. If this is intentional, consider using info.normalize_proj()\n",
      "  cov, bem_fname, trans_fname)\n",
      "<ipython-input-47-ba37277b8543>:4: RuntimeWarning: Projection vector \"EOG-planar--0.200-0.200-PCA-01\" has magnitude 0.76 (should be unity), applying projector with 102/204 of the original channels available may be dangerous, consider recomputing and adding projection vectors for channels that are eventually used. If this is intentional, consider using info.normalize_proj()\n",
      "  cov, bem_fname, trans_fname)\n",
      "<ipython-input-47-ba37277b8543>:4: RuntimeWarning: Projection vector \"EOG-axial--0.200-0.200-PCA-01\" has magnitude 0.76 (should be unity), applying projector with 51/102 of the original channels available may be dangerous, consider recomputing and adding projection vectors for channels that are eventually used. If this is intentional, consider using info.normalize_proj()\n",
      "  cov, bem_fname, trans_fname)\n",
      "<ipython-input-47-ba37277b8543>:4: RuntimeWarning: Projection vector \"EOG-planar--0.200-0.200-PCA-01\" has magnitude 0.76 (should be unity), applying projector with 102/204 of the original channels available may be dangerous, consider recomputing and adding projection vectors for channels that are eventually used. If this is intentional, consider using info.normalize_proj()\n",
      "  cov, bem_fname, trans_fname)\n",
      "<ipython-input-47-ba37277b8543>:4: RuntimeWarning: Projection vector \"EOG-axial--0.200-0.200-PCA-01\" has magnitude 0.76 (should be unity), applying projector with 51/102 of the original channels available may be dangerous, consider recomputing and adding projection vectors for channels that are eventually used. If this is intentional, consider using info.normalize_proj()\n",
      "  cov, bem_fname, trans_fname)\n"
     ]
    },
    {
     "name": "stdout",
     "output_type": "stream",
     "text": [
      "<Dipole  |  n_times : 21, tmin : 0.130, tmax : 0.150>\n"
     ]
    }
   ],
   "source": [
    "selection = mne.read_selection('Right', info=evoked.info)\n",
    "dip, residual = \\\n",
    "    mne.fit_dipole(evoked_crop.copy().pick_channels(selection),\n",
    "                  cov, bem_fname, trans_fname)\n",
    "print(dip)"
   ]
  },
  {
   "cell_type": "code",
   "execution_count": 48,
   "metadata": {},
   "outputs": [
    {
     "name": "stdout",
     "output_type": "stream",
     "text": [
      "[17.14895808 16.39604153 15.58516644 13.75703841 14.24385918 15.03324236\n",
      " 16.1421105  17.56992892 20.04377441 24.38982403  3.17428685  3.35612474\n",
      " 33.19994497 35.41539317  3.57006499 38.22273397 38.69962139 38.510042\n",
      " 36.5100991  34.78553507 32.58515733]\n"
     ]
    }
   ],
   "source": [
    "print(dip.gof)"
   ]
  },
  {
   "cell_type": "code",
   "execution_count": 50,
   "metadata": {},
   "outputs": [],
   "source": [
    "dip.plot_locations(subject=subject, trans=trans_fname,\n",
    "                  subjects_dir=subjects_dir, mode='orthoview');"
   ]
  },
  {
   "cell_type": "code",
   "execution_count": null,
   "metadata": {},
   "outputs": [],
   "source": []
  }
 ],
 "metadata": {
  "kernelspec": {
   "display_name": "Python 3",
   "language": "python",
   "name": "python3"
  },
  "language_info": {
   "codemirror_mode": {
    "name": "ipython",
    "version": 3
   },
   "file_extension": ".py",
   "mimetype": "text/x-python",
   "name": "python",
   "nbconvert_exporter": "python",
   "pygments_lexer": "ipython3",
   "version": "3.7.6"
  }
 },
 "nbformat": 4,
 "nbformat_minor": 4
}

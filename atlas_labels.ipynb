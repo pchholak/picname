{
 "cells": [
  {
   "cell_type": "code",
   "execution_count": 1,
   "metadata": {},
   "outputs": [],
   "source": [
    "import os.path as op\n",
    "import mne"
   ]
  },
  {
   "cell_type": "code",
   "execution_count": 2,
   "metadata": {},
   "outputs": [
    {
     "name": "stdout",
     "output_type": "stream",
     "text": [
      "Reading labels from parcellation...\n",
      "   read 34 labels from /home/anakin/data/pic-name-data-bids/MRI/sub-08/label/lh.aparc.annot\n",
      "   read 34 labels from /home/anakin/data/pic-name-data-bids/MRI/sub-08/label/rh.aparc.annot\n",
      "bankssts-lh\n",
      "bankssts-rh\n",
      "caudalanteriorcingulate-lh\n",
      "caudalanteriorcingulate-rh\n",
      "caudalmiddlefrontal-lh\n",
      "caudalmiddlefrontal-rh\n",
      "cuneus-lh\n",
      "cuneus-rh\n",
      "entorhinal-lh\n",
      "entorhinal-rh\n",
      "frontalpole-lh\n",
      "frontalpole-rh\n",
      "fusiform-lh\n",
      "fusiform-rh\n",
      "inferiorparietal-lh\n",
      "inferiorparietal-rh\n",
      "inferiortemporal-lh\n",
      "inferiortemporal-rh\n",
      "insula-lh\n",
      "insula-rh\n",
      "isthmuscingulate-lh\n",
      "isthmuscingulate-rh\n",
      "lateraloccipital-lh\n",
      "lateraloccipital-rh\n",
      "lateralorbitofrontal-lh\n",
      "lateralorbitofrontal-rh\n",
      "lingual-lh\n",
      "lingual-rh\n",
      "medialorbitofrontal-lh\n",
      "medialorbitofrontal-rh\n",
      "middletemporal-lh\n",
      "middletemporal-rh\n",
      "paracentral-lh\n",
      "paracentral-rh\n",
      "parahippocampal-lh\n",
      "parahippocampal-rh\n",
      "parsopercularis-lh\n",
      "parsopercularis-rh\n",
      "parsorbitalis-lh\n",
      "parsorbitalis-rh\n",
      "parstriangularis-lh\n",
      "parstriangularis-rh\n",
      "pericalcarine-lh\n",
      "pericalcarine-rh\n",
      "postcentral-lh\n",
      "postcentral-rh\n",
      "posteriorcingulate-lh\n",
      "posteriorcingulate-rh\n",
      "precentral-lh\n",
      "precentral-rh\n",
      "precuneus-lh\n",
      "precuneus-rh\n",
      "rostralanteriorcingulate-lh\n",
      "rostralanteriorcingulate-rh\n",
      "rostralmiddlefrontal-lh\n",
      "rostralmiddlefrontal-rh\n",
      "superiorfrontal-lh\n",
      "superiorfrontal-rh\n",
      "superiorparietal-lh\n",
      "superiorparietal-rh\n",
      "superiortemporal-lh\n",
      "superiortemporal-rh\n",
      "supramarginal-lh\n",
      "supramarginal-rh\n",
      "temporalpole-lh\n",
      "temporalpole-rh\n",
      "transversetemporal-lh\n",
      "transversetemporal-rh\n"
     ]
    }
   ],
   "source": [
    "subject = 'sub-08'\n",
    "subjects_dir = op.expanduser(\"~/data/pic-name-data-bids/MRI\")\n",
    "atlas = 'aparc'\n",
    "labels = mne.read_labels_from_annot(subject, parc=atlas, subjects_dir=subjects_dir)\n",
    "for lbl in labels:\n",
    "    print(lbl.name)"
   ]
  },
  {
   "cell_type": "code",
   "execution_count": 3,
   "metadata": {},
   "outputs": [],
   "source": [
    "# subject = 'sub-08'\n",
    "# subjects_dir = op.expanduser(\"~/data/pic-name-data-bids/MRI\")\n",
    "# atlas = 'PALS_B12_Brodmann'\n",
    "# labels = mne.read_labels_from_annot(subject, parc=atlas, subjects_dir=subjects_dir)\n",
    "# for lbl in labels:\n",
    "#     print(lbl.name)"
   ]
  },
  {
   "cell_type": "code",
   "execution_count": 6,
   "metadata": {},
   "outputs": [
    {
     "name": "stdout",
     "output_type": "stream",
     "text": [
      "Reading labels from parcellation...\n",
      "   read 34 labels from /home/anakin/data/pic-name-data-bids/MRI/sub-08/label/lh.aparc.annot\n"
     ]
    }
   ],
   "source": [
    "Brain = mne.viz.get_brain_class()\n",
    "labels = mne.read_labels_from_annot(subject, atlas, 'lh', subjects_dir=subjects_dir)\n",
    "brain = Brain(subject, 'lh', 'pial', subjects_dir=subjects_dir, cortex='low_contrast',\n",
    "              background='white', size=(800, 600), views=['lateral', 'ventral'])\n",
    "brain.add_annotation(atlas)\n",
    "label_fusiform = [label for label in labels if label.name == 'fusiform-lh'][0]\n",
    "brain.add_label(label_fusiform, borders=False)\n",
    "\n",
    "# label_broc44 = [label for label in labels if label.name == 'Brodmann.44-lh'][0]\n",
    "# label_broc45 = [label for label in labels if label.name == 'Brodmann.45-lh'][0]\n",
    "# label_broc = label_broc44 + label_broc45\n",
    "# brain.add_label(label_broc, borders=False)"
   ]
  },
  {
   "cell_type": "code",
   "execution_count": 7,
   "metadata": {},
   "outputs": [],
   "source": [
    "Brain?"
   ]
  },
  {
   "cell_type": "code",
   "execution_count": 7,
   "metadata": {},
   "outputs": [
    {
     "name": "stdout",
     "output_type": "stream",
     "text": [
      "Reading labels from parcellation...\n",
      "   read 82 labels from /home/anakin/data/pic-name-data-bids/MRI/sub-08/label/lh.PALS_B12_Brodmann.annot\n"
     ]
    }
   ],
   "source": [
    "# Brain = mne.viz.get_brain_class()\n",
    "# labels = mne.read_labels_from_annot(subject, atlas, 'lh', subjects_dir=subjects_dir)\n",
    "# brain = Brain(subject, 'lh', 'inflated', subjects_dir=subjects_dir,\n",
    "#              cortex='low_contrast', background='white', size=(800, 600))\n",
    "# brain.add_annotation(atlas)\n",
    "# label_wern = [label for label in labels if label.name == 'Brodmann.22-lh'][0]\n",
    "# brain.add_label(label_wern, borders=False)\n",
    "\n",
    "# label_broc44 = [label for label in labels if label.name == 'Brodmann.44-lh'][0]\n",
    "# label_broc45 = [label for label in labels if label.name == 'Brodmann.45-lh'][0]\n",
    "# label_broc = label_broc44 + label_broc45\n",
    "# brain.add_label(label_broc, borders=False)"
   ]
  },
  {
   "cell_type": "code",
   "execution_count": null,
   "metadata": {},
   "outputs": [],
   "source": []
  }
 ],
 "metadata": {
  "kernelspec": {
   "display_name": "Python 3",
   "language": "python",
   "name": "python3"
  },
  "language_info": {
   "codemirror_mode": {
    "name": "ipython",
    "version": 3
   },
   "file_extension": ".py",
   "mimetype": "text/x-python",
   "name": "python",
   "nbconvert_exporter": "python",
   "pygments_lexer": "ipython3",
   "version": "3.8.6"
  }
 },
 "nbformat": 4,
 "nbformat_minor": 4
}

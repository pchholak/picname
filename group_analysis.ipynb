{
 "cells": [
  {
   "cell_type": "code",
   "execution_count": 1,
   "metadata": {},
   "outputs": [],
   "source": [
    "%matplotlib qt\n",
    "import matplotlib.pyplot as plt\n",
    "\n",
    "import os.path as op\n",
    "import numpy as np\n",
    "import mne\n",
    "\n",
    "mne.set_log_level('WARNING')\n",
    "\n",
    "subjects_dir = op.expanduser(\"~/data/pic-name-data-bids/MRI/\")\n",
    "res_dir = op.expanduser(\"~/research/results/picname\")"
   ]
  },
  {
   "cell_type": "code",
   "execution_count": null,
   "metadata": {},
   "outputs": [],
   "source": [
    "def get_roi_labels(subject, subjects_dir, name):\n",
    "    if name == \"LO\":\n",
    "        labels = mne.read_labels_from_annot(subject, parc='aparc', subjects_dir=subjects_dir)\n",
    "        ROI = ['lateraloccipital-lh', 'lateraloccipital-rh']\n",
    "        labels_roi = []\n",
    "        for lbl in labels:\n",
    "            if lbl.name in ROI:\n",
    "                print(lbl.name)\n",
    "                labels_roi.append(lbl)\n",
    "        label = labels_roi[0]\n",
    "        for i in range(1, len(labels_roi)):\n",
    "            label = label + labels_roi[i]\n",
    "        return label\n",
    "    return None"
   ]
  },
  {
   "cell_type": "code",
   "execution_count": null,
   "metadata": {},
   "outputs": [],
   "source": [
    "cond = \"bili\"\n",
    "bili = [2, 8, 9, 12]\n",
    "clil = [1, 6, 10, 11, 15]\n",
    "mono = [3, 4, 5, 13, 14]\n",
    "# subjects = [\"sub-%02d\" % i for i in (mono+bili)]"
   ]
  },
  {
   "cell_type": "code",
   "execution_count": null,
   "metadata": {},
   "outputs": [],
   "source": [
    "if cond == \"bili\":\n",
    "    subjects = [\"sub-%02d\" % i for i in bili]\n",
    "elif cond == \"clil\":\n",
    "    subjects = [\"sub-%02d\" % i for i in clil]\n",
    "elif cond == \"mono\":\n",
    "    subjects = [\"sub-%02d\" % i for i in mono]\n",
    "else:\n",
    "    raise ValueError(\"$cond should be 'bili'/'clil'/'mono'.\")\n",
    "subjects"
   ]
  },
  {
   "cell_type": "code",
   "execution_count": 2,
   "metadata": {},
   "outputs": [],
   "source": [
    "subjects = [\"sub-%02d\" % i for i in range(1, 16) if i not in [7]]"
   ]
  },
  {
   "cell_type": "code",
   "execution_count": 3,
   "metadata": {},
   "outputs": [],
   "source": [
    "evokeds_list = []\n",
    "N_avg = []\n",
    "for subject in subjects:\n",
    "    fname = op.join(res_dir, subject, subject+'-ave.fif')\n",
    "    ev = mne.read_evokeds(fname)\n",
    "    evokeds_list.append(ev[0])\n",
    "    N_avg.append(ev[0].nave)"
   ]
  },
  {
   "cell_type": "code",
   "execution_count": 4,
   "metadata": {},
   "outputs": [
    {
     "data": {
      "text/plain": [
       "[120, 120, 120, 120, 120, 120, 98, 82, 89, 85, 87, 87, 89, 83]"
      ]
     },
     "execution_count": 4,
     "metadata": {},
     "output_type": "execute_result"
    }
   ],
   "source": [
    "N_avg"
   ]
  },
  {
   "cell_type": "code",
   "execution_count": null,
   "metadata": {},
   "outputs": [],
   "source": [
    "# f, axes = plt.subplots(1, 3, figsize=(13, 9), sharex=True, sharey=True)\n",
    "# for ax, subject, evoked in zip(axes.ravel(), subjects, evokeds_list):\n",
    "#     evoked.plot(spatial_colors=True, gfp=True, proj=False, time_unit='ms', picks='mag',\n",
    "#                 show=False, axes=ax, titles=subject) \n",
    "# plt.tight_layout()\n",
    "\n",
    "# plt.savefig(op.join(res_dir, 'evoked_' + 'bili' + '.pdf'))"
   ]
  },
  {
   "cell_type": "code",
   "execution_count": null,
   "metadata": {},
   "outputs": [],
   "source": [
    "evoked_gave = mne.grand_average(evokeds_list)\n",
    "# evoked_gave.plot(spatial_colors=True, gfp=True, proj=False, time_unit='ms', picks='mag')\n",
    "\n",
    "# plt.savefig(op.join(res_dir, 'evoked_group_' + 'bili' + '.pdf'))"
   ]
  },
  {
   "cell_type": "code",
   "execution_count": null,
   "metadata": {},
   "outputs": [],
   "source": [
    "evoked_gave.pick_types(meg=\"mag\").plot_topo(color='r', legend=False)"
   ]
  },
  {
   "cell_type": "code",
   "execution_count": null,
   "metadata": {},
   "outputs": [],
   "source": [
    "# evkd = []\n",
    "# for subject, evokeds in zip(subjects, evokeds_list):\n",
    "#     mne.viz.plot_evoked(evokeds, picks='MEG2343', show=False, xlim=(-0.1,0.6))\n",
    "# plt.show()"
   ]
  },
  {
   "cell_type": "code",
   "execution_count": null,
   "metadata": {},
   "outputs": [],
   "source": [
    "stc_fnames = []\n",
    "for subject in subjects:\n",
    "    if dom[subject]==\"L\":\n",
    "        stc_fnames.append(op.join(res_dir, subject + '/dspm_%s' % subject + '-lh.stc'))\n",
    "    elif dom[subject]==\"R\":\n",
    "        stc_fnames.append(op.join(res_dir, subject + '/dspm_%s' % subject + '-rh.stc'))\n",
    "    else:\n",
    "        raise ValueError(\"Check $dom. It can only have 'L'/'R' as values.\")\n",
    "\n",
    "stcs = [mne.read_source_estimate(stc_fname) for stc_fname in stc_fnames]"
   ]
  },
  {
   "cell_type": "code",
   "execution_count": null,
   "metadata": {},
   "outputs": [],
   "source": [
    "# average_stc = np.mean(stcs)\n",
    "# average_stc = np.mean(np.abs(stcs))\n",
    "\n",
    "# vertno_peak, t_peak = average_stc.get_peak()\n",
    "# print(t_peak)\n",
    "\n",
    "# surfer_kwargs = dict(subject=\"fsaverage\", hemi='both', subjects_dir=subjects_dir,\n",
    "#         clim=dict(kind='value', lims=[2.5, 5, 6]), views='parietal',\n",
    "#         initial_time=t_peak, time_unit='s', size=(800, 800), smoothing_steps=10,\n",
    "#         time_viewer=False)\n",
    "\n",
    "# brain = average_stc.plot(**surfer_kwargs)\n",
    "# brain.add_text(0.1, 0.9, 'dSPM (with location of maximal activation)', 'title',\n",
    "#               font_size=14)\n",
    "# brain.add_foci(vertno_peak, coords_as_verts=True, hemi='lh', color='blue',\n",
    "#               scale_factor=0.6, alpha=0.5)\n",
    "\n",
    "# # Draw figure and save image\n",
    "# dspm_fname = op.join(res_dir, \"dspm_fsavg_bili_R.png\")\n",
    "# brain.save_image(dspm_fname)\n",
    "\n",
    "# # Generate and save movie\n",
    "# dspm_movie_fname = op.join(res_dir, 'dspm_movie_fsavg_bili_R.mov')\n",
    "# brain.save_movie(dspm_movie_fname, tmin=0.05, tmax=0.55, interpolation='linear',\n",
    "#                 time_dilation=20, framerate=10, time_viewer=True)\n",
    "# brain.close()"
   ]
  },
  {
   "cell_type": "code",
   "execution_count": null,
   "metadata": {},
   "outputs": [],
   "source": [
    "src = mne.setup_source_space(subject, spacing='oct6', subjects_dir=subjects_dir,\n",
    "                            add_dist=False)\n",
    "label = get_roi_labels(subject, subjects_dir, \"LO\")\n",
    "stc_label_mean = []\n",
    "for stc in stcs:\n",
    "    label_ts = mne.extract_label_time_course(stc, label, src, mode='pca_flip',\n",
    "                                            return_generator=True)\n",
    "    stc_label_mean.extend(label_ts)\n",
    "    \n",
    "np.shape(stc_label_mean)\n",
    "# average_stc_label_mean = average_stc_label_mean / nstcs"
   ]
  },
  {
   "cell_type": "code",
   "execution_count": null,
   "metadata": {},
   "outputs": [],
   "source": [
    "times = stcs[0].times\n",
    "stc_label_mean_new = np.array(stc_label_mean).reshape(len(times),)\n",
    "plt.figure()\n",
    "h = plt.plot(times, stc_label_mean_new, 'r', linewidth=3)\n",
    "plt.xlim(times[0], times[-1])"
   ]
  },
  {
   "cell_type": "code",
   "execution_count": null,
   "metadata": {},
   "outputs": [],
   "source": []
  },
  {
   "cell_type": "code",
   "execution_count": null,
   "metadata": {},
   "outputs": [],
   "source": [
    "weighted_average_stc_label_mean = np.average(stc_label_mean, axis=0, weights=N_avg)\n",
    "np.shape(weighted_average_stc_label_mean)"
   ]
  },
  {
   "cell_type": "code",
   "execution_count": null,
   "metadata": {},
   "outputs": [],
   "source": [
    "average_stc_label_mean = np.mean(stc_label_mean, axis=0)\n",
    "np.shape(average_stc_label_mean)"
   ]
  },
  {
   "cell_type": "code",
   "execution_count": null,
   "metadata": {},
   "outputs": [],
   "source": [
    "# label = get_roi_labels('fsaverage', subjects_dir, \"LO\")\n",
    "# nstcs = 0\n",
    "# for stc in stcs:\n",
    "#     nstcs += 1\n",
    "#     if nstcs == 1:\n",
    "#         stc_label = stc.in_label(label)\n",
    "#         average_stc_label_mean = np.mean(stc_label.data, axis=0)\n",
    "#     else:\n",
    "#         stc_label = stc.in_label(label)\n",
    "#         average_stc_label_mean += np.mean(stc_label.data, axis=0)\n",
    "\n",
    "# average_stc_label_mean = average_stc_label_mean / nstcs"
   ]
  },
  {
   "cell_type": "code",
   "execution_count": null,
   "metadata": {},
   "outputs": [],
   "source": [
    "times = stcs[0].times\n",
    "plt.figure()\n",
    "h = plt.plot(times, average_stc_label_mean, 'r', linewidth=3)\n",
    "h1 = plt.plot(times, weighted_average_stc_label_mean, 'g', linewidth=3)\n",
    "plt.xlim(times[0], times[-1])\n",
    "\n",
    "plt.savefig(op.join(res_dir, 'evoked_label_' + cond + '.pdf'))"
   ]
  },
  {
   "cell_type": "code",
   "execution_count": null,
   "metadata": {},
   "outputs": [],
   "source": []
  }
 ],
 "metadata": {
  "kernelspec": {
   "display_name": "Python 3",
   "language": "python",
   "name": "python3"
  },
  "language_info": {
   "codemirror_mode": {
    "name": "ipython",
    "version": 3
   },
   "file_extension": ".py",
   "mimetype": "text/x-python",
   "name": "python",
   "nbconvert_exporter": "python",
   "pygments_lexer": "ipython3",
   "version": "3.8.6"
  }
 },
 "nbformat": 4,
 "nbformat_minor": 4
}

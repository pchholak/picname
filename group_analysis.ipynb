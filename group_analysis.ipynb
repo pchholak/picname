{
 "cells": [
  {
   "cell_type": "code",
   "execution_count": 1,
   "metadata": {},
   "outputs": [],
   "source": [
    "%matplotlib qt\n",
    "import matplotlib.pyplot as plt\n",
    "\n",
    "import os.path as op\n",
    "import numpy as np\n",
    "import mne\n",
    "\n",
    "mne.set_log_level('WARNING')\n",
    "\n",
    "subjects_dir = op.expanduser(\"~/data/pic-name-data-bids/MRI/\")\n",
    "res_dir = op.expanduser(\"~/research/results/picname\")"
   ]
  },
  {
   "cell_type": "code",
   "execution_count": 2,
   "metadata": {},
   "outputs": [
    {
     "data": {
      "text/plain": [
       "['sub-08', 'sub-09', 'sub-12']"
      ]
     },
     "execution_count": 2,
     "metadata": {},
     "output_type": "execute_result"
    }
   ],
   "source": [
    "bili = [8, 9, 12]\n",
    "# clil = [1, 6, 10, 11, 15]\n",
    "mono = [3, 4, 5, 13, 14]\n",
    "# subjects = [\"sub-%02d\" % i for i in (mono+bili)]\n",
    "subjects = [\"sub-%02d\" % i for i in bili]\n",
    "subjects"
   ]
  },
  {
   "cell_type": "code",
   "execution_count": 3,
   "metadata": {},
   "outputs": [],
   "source": [
    "dom = {'sub-01': 'L',\n",
    "       'sub-02': 'L',\n",
    "       'sub-03': 'R',\n",
    "       'sub-04': 'R',\n",
    "       'sub-05': 'R',\n",
    "       'sub-06': 'R',\n",
    "       'sub-08': 'R',\n",
    "       'sub-09': 'R',\n",
    "       'sub-10': 'R',\n",
    "       'sub-11': 'R',\n",
    "       'sub-12': 'R',\n",
    "       'sub-13': 'L',\n",
    "       'sub-14': 'R',\n",
    "       'sub-15': 'R',\n",
    "      }"
   ]
  },
  {
   "cell_type": "code",
   "execution_count": 4,
   "metadata": {},
   "outputs": [
    {
     "name": "stdout",
     "output_type": "stream",
     "text": [
      "sub-08 R\n",
      "sub-09 R\n",
      "sub-12 R\n"
     ]
    }
   ],
   "source": [
    "for sub in subjects:\n",
    "    print(sub, dom[sub])"
   ]
  },
  {
   "cell_type": "code",
   "execution_count": 5,
   "metadata": {},
   "outputs": [],
   "source": [
    "evokeds_list = []\n",
    "for subject in subjects:\n",
    "    fname = op.join(res_dir, subject, subject+'-ave.fif')\n",
    "    ev = mne.read_evokeds(fname)\n",
    "    evokeds_list.append(ev[0])"
   ]
  },
  {
   "cell_type": "code",
   "execution_count": 6,
   "metadata": {},
   "outputs": [
    {
     "name": "stderr",
     "output_type": "stream",
     "text": [
      "<ipython-input-6-2592b25f8c9f>:5: UserWarning: This figure includes Axes that are not compatible with tight_layout, so results might be incorrect.\n",
      "  plt.tight_layout()\n"
     ]
    }
   ],
   "source": [
    "f, axes = plt.subplots(2, 2, figsize=(13, 9), sharex=True, sharey=True)\n",
    "for ax, subject, evoked in zip(axes.ravel(), subjects, evokeds_list):\n",
    "    evoked.plot(spatial_colors=True, gfp=True, proj=False, time_unit='ms', picks='mag',\n",
    "                show=False, axes=ax, titles=subject) \n",
    "plt.tight_layout()\n",
    "\n",
    "plt.savefig(op.join(res_dir, 'evoked_' + 'bili' + '.pdf'))"
   ]
  },
  {
   "cell_type": "code",
   "execution_count": null,
   "metadata": {},
   "outputs": [],
   "source": [
    "# f, axes = plt.subplots(2, 4, figsize=(13, 9), sharex=True, sharey=True)\n",
    "# for ax, subject, evokeds in zip(axes.ravel(), subjects, evokeds_list):\n",
    "#     mne.viz.plot_evoked(evokeds, picks='MEG2343', show=False, axes=ax, \n",
    "#                         titles=subject, spatial_colors=True, xlim=(-0.1,0.6))  \n",
    "# plt.tight_layout()\n",
    "\n",
    "# # plt.savefig(op.join(res_dir, 'evoked_all_subjects.pdf'))"
   ]
  },
  {
   "cell_type": "code",
   "execution_count": 7,
   "metadata": {},
   "outputs": [],
   "source": [
    "evoked_gave = mne.grand_average(evokeds_list)\n",
    "evoked_gave.plot(spatial_colors=True)\n",
    "\n",
    "plt.savefig(op.join(res_dir, 'evoked_group_' + 'bili' + '.pdf'))"
   ]
  },
  {
   "cell_type": "code",
   "execution_count": null,
   "metadata": {},
   "outputs": [],
   "source": [
    "# evkd = []\n",
    "# for subject, evokeds in zip(subjects, evokeds_list):\n",
    "#     mne.viz.plot_evoked(evokeds, picks='MEG2343', show=False, xlim=(-0.1,0.6))\n",
    "# plt.show()"
   ]
  },
  {
   "cell_type": "code",
   "execution_count": 8,
   "metadata": {},
   "outputs": [],
   "source": [
    "stc_fnames = []\n",
    "for subject in subjects:\n",
    "    if dom[subject]==\"L\":\n",
    "        stc_fnames.append(op.join(res_dir, subject + '/dspm_%s' % subject + '-lh.stc'))\n",
    "    elif dom[subject]==\"R\":\n",
    "        stc_fnames.append(op.join(res_dir, subject + '/dspm_%s' % subject + '-rh.stc'))\n",
    "    else:\n",
    "        raise ValueError(\"Check $dom. It can only have 'L'/'R' as values.\")\n",
    "stcs = [mne.read_source_estimate(stc_fname) for stc_fname in stc_fnames]\n",
    "average_stc = np.mean(stcs)"
   ]
  },
  {
   "cell_type": "code",
   "execution_count": 17,
   "metadata": {},
   "outputs": [
    {
     "name": "stdout",
     "output_type": "stream",
     "text": [
      "0.15700000000000003\n"
     ]
    }
   ],
   "source": [
    "vertno_peak, t_peak = average_stc.get_peak()\n",
    "print(t_peak)\n",
    "\n",
    "surfer_kwargs = dict(subject=\"fsaverage\", hemi='both', subjects_dir=subjects_dir,\n",
    "        clim=dict(kind='value', lims=[2.5, 5, 6]), views='parietal',\n",
    "        initial_time=t_peak, time_unit='s', size=(800, 800), smoothing_steps=10,\n",
    "        time_viewer=False)"
   ]
  },
  {
   "cell_type": "code",
   "execution_count": 20,
   "metadata": {},
   "outputs": [],
   "source": [
    "brain = average_stc.plot(**surfer_kwargs)\n",
    "brain.add_text(0.1, 0.9, 'dSPM (with location of maximal activation)', 'title',\n",
    "              font_size=14)\n",
    "brain.add_foci(vertno_peak, coords_as_verts=True, hemi='lh', color='blue',\n",
    "              scale_factor=0.6, alpha=0.5)\n",
    "\n",
    "# Draw figure and save image\n",
    "dspm_fname = op.join(res_dir, \"dspm_fsavg_bili_R.png\")\n",
    "# brain.save_image(dspm_fname)\n",
    "\n",
    "# Generate and save movie\n",
    "dspm_movie_fname = op.join(res_dir, 'dspm_movie_fsavg_bili_R.mov')\n",
    "brain.save_movie(dspm_movie_fname, tmin=0.05, tmax=0.55, interpolation='linear',\n",
    "                time_dilation=20, framerate=10, time_viewer=True)\n",
    "brain.close()"
   ]
  },
  {
   "cell_type": "code",
   "execution_count": null,
   "metadata": {},
   "outputs": [],
   "source": [
    "# # Estimate peak SNR and find corresponding time\n",
    "# snr, _ = estimate_snr(evoked_gave, inverse_operator, verbose=True)\n",
    "# nt_snr = np.argmax(snr)\n",
    "# SNR = snr[nt_snr]\n",
    "# print('\\nMax SNR at %0.3f s : %0.3f' % (evoked.times[nt_snr], SNR))"
   ]
  },
  {
   "cell_type": "code",
   "execution_count": null,
   "metadata": {},
   "outputs": [],
   "source": [
    "# labels = mne.read_labels_from_annot('fsaverage', 'HCPMMP1', 'both', subjects_dir=subjects_dir)\n",
    "# labels_vis = []\n",
    "# ROI = ['L_V1_ROI-lh', 'R_V1_ROI-rh']\n",
    "# for lbl in labels:\n",
    "#     if lbl.name in ROI:\n",
    "#         labels_vis.append(lbl)\n",
    "# label = labels_vis[0]\n",
    "# for i in range(1, len(labels_vis)):\n",
    "#     label = label + labels_vis[i]\n",
    "\n",
    "# average_stc_label = average_stc.in_label(label)\n",
    "# average_stc_label_mean = np.mean(average_stc_label.data, axis=0)"
   ]
  },
  {
   "cell_type": "code",
   "execution_count": null,
   "metadata": {},
   "outputs": [],
   "source": [
    "# Evoked responses of required brain sources\n",
    "# ROIs = [\"LO\", \"Wernicke\", \"Broca\"]\n",
    "# evoked_roi = {}\n",
    "# for roi in ROIs:\n",
    "label = get_roi_labels(subject, subjects_dir, roi, par['dominant_brain'])\n",
    "#     label_ts = mne.extract_label_time_course(stc, label, src, mode='mean_flip',\n",
    "#                                             return_generator=True)\n",
    "#     label_ts = label_ts.transpose()\n",
    "#     evoked_roi[roi] = label_ts        "
   ]
  },
  {
   "cell_type": "code",
   "execution_count": null,
   "metadata": {},
   "outputs": [],
   "source": [
    "average_stc.in_label"
   ]
  },
  {
   "cell_type": "code",
   "execution_count": null,
   "metadata": {},
   "outputs": [],
   "source": [
    "times = 1e3 * average_stc.times # times in ms\n",
    "plt.figure()\n",
    "h0 = plt.plot(times, average_stc_label.data.T, 'k')\n",
    "h1, = plt.plot(times, average_stc_label_mean, 'r', linewidth=3)\n",
    "plt.show()\n",
    "\n",
    "# plt.savefig(op.join(res_dir, 'evoked_label_group.pdf'))"
   ]
  },
  {
   "cell_type": "code",
   "execution_count": null,
   "metadata": {},
   "outputs": [],
   "source": []
  }
 ],
 "metadata": {
  "kernelspec": {
   "display_name": "Python 3",
   "language": "python",
   "name": "python3"
  },
  "language_info": {
   "codemirror_mode": {
    "name": "ipython",
    "version": 3
   },
   "file_extension": ".py",
   "mimetype": "text/x-python",
   "name": "python",
   "nbconvert_exporter": "python",
   "pygments_lexer": "ipython3",
   "version": "3.8.6"
  }
 },
 "nbformat": 4,
 "nbformat_minor": 4
}

{
 "cells": [
  {
   "cell_type": "code",
   "execution_count": null,
   "metadata": {},
   "outputs": [],
   "source": [
    "%matplotlib qt\n",
    "import matplotlib.pyplot as plt\n",
    "\n",
    "import os.path as op\n",
    "import numpy as np\n",
    "import mne\n",
    "\n",
    "mne.set_log_level('WARNING')\n",
    "\n",
    "subjects_dir = op.expanduser(\"~/data/pic-name-data-bids/MRI/\")\n",
    "res_dir = op.expanduser(\"~/research/results/pic_name\")"
   ]
  },
  {
   "cell_type": "code",
   "execution_count": null,
   "metadata": {},
   "outputs": [],
   "source": [
    "bili = [8, 9]\n",
    "# clil = [1, 6, 10, 11, 15]\n",
    "mono = [3, 4, 5, 13, 14]\n",
    "subjects = [\"sub-%02d\" % i for i in (bili + mono)]\n",
    "# subjects = [\"sub-%02d\" % i for i in bili]\n",
    "subjects"
   ]
  },
  {
   "cell_type": "code",
   "execution_count": null,
   "metadata": {},
   "outputs": [],
   "source": [
    "evokeds_list = []\n",
    "for subject in subjects:\n",
    "    fname = op.join(res_dir, subject, subject+'-ave.fif')\n",
    "    ev = mne.read_evokeds(fname)\n",
    "    evokeds_list.append(ev[0])"
   ]
  },
  {
   "cell_type": "code",
   "execution_count": null,
   "metadata": {},
   "outputs": [],
   "source": [
    "f, axes = plt.subplots(2, 4, figsize=(13, 9), sharex=True, sharey=True)\n",
    "for ax, subject, evokeds in zip(axes.ravel(), subjects, evokeds_list):\n",
    "    mne.viz.plot_evoked(evokeds, picks='MEG2343', show=False, axes=ax, \n",
    "                        titles=subject, spatial_colors=True, xlim=(-0.1,0.6))  \n",
    "plt.tight_layout()\n",
    "\n",
    "# plt.savefig(op.join(res_dir, 'evoked_all_subjects.pdf'))"
   ]
  },
  {
   "cell_type": "code",
   "execution_count": null,
   "metadata": {},
   "outputs": [],
   "source": [
    "evoked_gave = mne.grand_average(evokeds_list)\n",
    "evoked_gave.plot(spatial_colors=True)\n",
    "\n",
    "# plt.savefig(op.join(res_dir, 'evoked_group.pdf'))"
   ]
  },
  {
   "cell_type": "code",
   "execution_count": null,
   "metadata": {},
   "outputs": [],
   "source": [
    "# evkd = []\n",
    "# for subject, evokeds in zip(subjects, evokeds_list):\n",
    "#     mne.viz.plot_evoked(evokeds, picks='MEG2343', show=False, xlim=(-0.1,0.6))\n",
    "# plt.show()"
   ]
  },
  {
   "cell_type": "code",
   "execution_count": null,
   "metadata": {},
   "outputs": [],
   "source": [
    "surfer_kwargs = dict(subject=\"fsaverage\",\n",
    "                     background=\"white\", foreground='black',\n",
    "                     cortex=(\"gray\", -1, 6, True), smoothing_steps=10,\n",
    "                     clim=dict(kind='value', lims=[2.5, 5, 6]),\n",
    "                     time_viewer=False)"
   ]
  },
  {
   "cell_type": "code",
   "execution_count": null,
   "metadata": {},
   "outputs": [],
   "source": [
    "res_dir = op.expanduser(\"~/research/results/pic_name\")\n",
    "stc_fnames = []\n",
    "for subject in subjects:\n",
    "    stc_fnames.append(op.join(res_dir, subject + '/dspm_%s' % subject))\n",
    "stcs = [mne.read_source_estimate(stc_fname) for stc_fname in stc_fnames]\n",
    "average_stc = np.mean(stcs)"
   ]
  },
  {
   "cell_type": "code",
   "execution_count": null,
   "metadata": {},
   "outputs": [],
   "source": [
    "brain = average_stc.plot(initial_time=0.36, subjects_dir=subjects_dir, hemi=\"both\", views='dor',\n",
    "                         **surfer_kwargs)\n",
    "\n",
    "# brain.save_image(op.join(res_dir, \"dspm_fsavg_t=400ms.png\"))"
   ]
  },
  {
   "cell_type": "code",
   "execution_count": null,
   "metadata": {},
   "outputs": [],
   "source": [
    "labels = mne.read_labels_from_annot('fsaverage', 'HCPMMP1', 'both', subjects_dir=subjects_dir)\n",
    "labels_vis = []\n",
    "ROI = ['L_V1_ROI-lh', 'R_V1_ROI-rh']\n",
    "for lbl in labels:\n",
    "    if lbl.name in ROI:\n",
    "        labels_vis.append(lbl)\n",
    "label = labels_vis[0]\n",
    "for i in range(1, len(labels_vis)):\n",
    "    label = label + labels_vis[i]\n",
    "\n",
    "average_stc_label = average_stc.in_label(label)\n",
    "average_stc_label_mean = np.mean(average_stc_label.data, axis=0)"
   ]
  },
  {
   "cell_type": "code",
   "execution_count": null,
   "metadata": {},
   "outputs": [],
   "source": [
    "times = 1e3 * average_stc.times # times in ms\n",
    "plt.figure()\n",
    "h0 = plt.plot(times, average_stc_label.data.T, 'k')\n",
    "h1, = plt.plot(times, average_stc_label_mean, 'r', linewidth=3)\n",
    "plt.show()\n",
    "\n",
    "# plt.savefig(op.join(res_dir, 'evoked_label_group.pdf'))"
   ]
  },
  {
   "cell_type": "code",
   "execution_count": null,
   "metadata": {},
   "outputs": [],
   "source": []
  }
 ],
 "metadata": {
  "kernelspec": {
   "display_name": "Python 3",
   "language": "python",
   "name": "python3"
  },
  "language_info": {
   "codemirror_mode": {
    "name": "ipython",
    "version": 3
   },
   "file_extension": ".py",
   "mimetype": "text/x-python",
   "name": "python",
   "nbconvert_exporter": "python",
   "pygments_lexer": "ipython3",
   "version": "3.7.6"
  }
 },
 "nbformat": 4,
 "nbformat_minor": 4
}

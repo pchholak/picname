{
 "cells": [
  {
   "cell_type": "code",
   "execution_count": null,
   "metadata": {},
   "outputs": [],
   "source": [
    "# from IPython.core.display import display, HTML\n",
    "# display(HTML(\"<style>.container { width:100% !important; }</style>\"))"
   ]
  },
  {
   "cell_type": "code",
   "execution_count": 1,
   "metadata": {},
   "outputs": [],
   "source": [
    "from scipy.io import loadmat\n",
    "import os\n",
    "from collections import OrderedDict\n",
    "import mne\n",
    "import numpy as np\n",
    "import matplotlib.pyplot as plt\n",
    "from nilearn.plotting import plot_stat_map\n",
    "from nilearn.image import index_img\n",
    "import warnings"
   ]
  },
  {
   "cell_type": "code",
   "execution_count": 2,
   "metadata": {},
   "outputs": [
    {
     "name": "stdout",
     "output_type": "stream",
     "text": [
      "Automatically created module for IPython interactive environment\n"
     ]
    }
   ],
   "source": [
    "warnings.simplefilter(\"ignore\", category=DeprecationWarning)\n",
    "print(__doc__)"
   ]
  },
  {
   "cell_type": "code",
   "execution_count": 3,
   "metadata": {},
   "outputs": [],
   "source": [
    "def my_var_cut_fn(epochs, plow, phigh, to_plot=True):\n",
    "    \"\"\"\n",
    "    Variance base trial rejection function\n",
    "    \"\"\"\n",
    "    trl_var, trlindx = np.empty((0,1),'float'), np.arange(0,len(epochs))\n",
    "    for trnum in range(len(epochs)):\n",
    "        trl_var = np.vstack((trl_var, max(np.var(np.squeeze(epochs[trnum].get_data()), axis=1))))\n",
    "    lim1 = (trl_var < np.percentile(trl_var, plow, interpolation='midpoint')).flatten()\n",
    "    lim2 = (trl_var > np.percentile(trl_var, phigh, interpolation='midpoint')).flatten()\n",
    "    outlr_idx = trlindx[lim1].tolist()+ trlindx[lim2].tolist()\n",
    "\n",
    "    if to_plot:\n",
    "        plt.figure, plt.scatter(trlindx, trl_var, marker='o',\n",
    "                s=50, c='g', label='Good trials'),\n",
    "        plt.ylabel('Max. Variance across channels-->')\n",
    "        plt.scatter(outlr_idx, trl_var[outlr_idx], marker='o',\n",
    "                s=50, c='r', label='Variance based bad trials'),\n",
    "        plt.xlabel('Trial number-->')\n",
    "        plt.scatter(badtrls, trl_var[badtrls], marker='o', s=50,\n",
    "                c='orange', label='Manually assigned bad trials')\n",
    "        plt.ylim(min(trl_var)-min(trl_var)*0.01,\n",
    "                max(trl_var)+max(trl_var)*0.01),\n",
    "        plt.title('Max. variance distribution')\n",
    "        plt.legend()\n",
    "        plt.show()\n",
    "    bad_trials = np.union1d(badtrls, outlr_idx)\n",
    "    print('Removed trials: %s\\n' % bad_trials)\n",
    "    return bad_trials"
   ]
  },
  {
   "cell_type": "code",
   "execution_count": null,
   "metadata": {},
   "outputs": [],
   "source": [
    "#%% Set parameters, directories and filenames\n",
    "more_plots = True\n",
    "par = {'badch'    : [],\n",
    "       'stimch'   : 'STI 014'}\n",
    "code_dir = '/home/anakin/Documents/BeamComp_CodeRepo/LCMV_pipelines/'\n",
    "data_dir = '/home/anakin/Documents/BeamComp_DataRepo/'\n",
    "\n",
    "par['event_dict'] = OrderedDict()\n",
    "par['event_dict']['VEF_UR'] = 1\n",
    "par['event_dict']['VEF_LR'] = 2\n",
    "par['event_dict']['AEF_Re'] = 3\n",
    "par['event_dict']['VEF_LL'] = 4\n",
    "par['event_dict']['AEF_Le'] = 5\n",
    "par['event_dict']['VEF_UL'] = 8\n",
    "par['event_dict']['SEF_Lh'] = 16\n",
    "par['event_dict']['SEF_Rh'] = 32\n",
    "st_len = len(par['event_dict'])\n",
    "\n",
    "act_dip_ = loadmat(code_dir + 'multimodal_biomag_Xfit_results.mat')\n",
    "act_dip  = act_dip_['multimodal_biomag_Xfit_diploc'][:, 3:6]\n",
    "\n",
    "par['act_loc'] = OrderedDict()\n",
    "par['act_loc']['VEF_UR'] = act_dip[0]\n",
    "par['act_loc']['VEF_LR'] = act_dip[1]\n",
    "par['act_loc']['AEF_Re'] = act_dip[2]\n",
    "par['act_loc']['VEF_LL'] = act_dip[3]\n",
    "par['act_loc']['AEF_Le'] = act_dip[4]\n",
    "par['act_loc']['VEF_UL'] = act_dip[5]\n",
    "par['act_loc']['SEF_Lh'] = act_dip[6]\n",
    "par['act_loc']['SEF_Rh'] = act_dip[7]\n",
    "\n",
    "data_path = data_dir + 'MEG/Human_EF/'\n",
    "filename = 'multimodal_raw.fif'    # or, multimodal_raw_tsss.fif\n",
    "fname = data_path + filename\n",
    "subjects_dir, subject = data_dir + 'MRI/', 'BeamCompMRI'"
   ]
  },
  {
   "cell_type": "code",
   "execution_count": null,
   "metadata": {},
   "outputs": [],
   "source": [
    "# trans = subjects_dir + subject + '/mri/transforms/' + subject + '-trans.fif'\n",
    "trans = subjects_dir + subject + '/mri/brain-neuromag/sets/' + 'BeamCompMRI-amit-131118-MNEicp-trans.fif'"
   ]
  },
  {
   "cell_type": "code",
   "execution_count": null,
   "metadata": {},
   "outputs": [],
   "source": [
    "mrifile = subjects_dir + subject + '/mri/T1.mgz'\n",
    "surffile = subjects_dir + subject + '/bem/watershed/' + subject + '_brain_surface'\n",
    "dfname = os.path.split(os.path.splitext(fname)[0])[1]"
   ]
  },
  {
   "cell_type": "code",
   "execution_count": null,
   "metadata": {},
   "outputs": [],
   "source": [
    "print(dfname)\n",
    "print(fname)"
   ]
  },
  {
   "cell_type": "code",
   "execution_count": null,
   "metadata": {},
   "outputs": [],
   "source": [
    "raw = mne.io.read_raw_fif(fname, allow_maxshield=False, preload=True, verbose=True)"
   ]
  },
  {
   "cell_type": "code",
   "execution_count": null,
   "metadata": {},
   "outputs": [],
   "source": [
    "raw.info"
   ]
  },
  {
   "cell_type": "code",
   "execution_count": null,
   "metadata": {},
   "outputs": [],
   "source": [
    "raw.info['projs']==[]"
   ]
  },
  {
   "cell_type": "code",
   "execution_count": null,
   "metadata": {},
   "outputs": [],
   "source": [
    "if not raw.info['projs']==[]:\n",
    "    bads = ['MEG 0442']\n",
    "    raw.drop_channels(bads)\n",
    "events = mne.find_events(raw, stim_channel=par['stimch'],\n",
    "                         min_duration=0.001, shortest_event=1)"
   ]
  },
  {
   "cell_type": "code",
   "execution_count": null,
   "metadata": {},
   "outputs": [],
   "source": [
    "events"
   ]
  },
  {
   "cell_type": "code",
   "execution_count": null,
   "metadata": {},
   "outputs": [],
   "source": [
    "events = events[events[:,1]==0]\n",
    "if more_plots:\n",
    "    mne.viz.plot_events(events, first_samp=0,\n",
    "        event_id=par['event_dict'], equal_spacing=True, show=True)\n",
    "raw.pick_types(meg=True)"
   ]
  },
  {
   "cell_type": "code",
   "execution_count": null,
   "metadata": {},
   "outputs": [],
   "source": [
    "#%% Apply filter if required\n",
    "raw.notch_filter(50, filter_length='auto', phase='zero', picks=None)\n",
    "raw.filter(2, 95, picks=None, filter_length='auto',\n",
    "    l_trans_bandwidth='auto', h_trans_bandwidth='auto', n_jobs=1,\n",
    "    method='fir', iir_params=None, phase='zero', fir_window='hamming',\n",
    "    fir_design='firwin', skip_by_annotation=('edge', 'bad_acq_skip'),\n",
    "    pad='reflect_limited', verbose=True)"
   ]
  },
  {
   "cell_type": "code",
   "execution_count": null,
   "metadata": {},
   "outputs": [],
   "source": [
    "if more_plots:\n",
    "    raw.plot(events=events)\n",
    "    raw.plot_psd(fmin=0, fmax=100, proj=False, verbose=True)"
   ]
  },
  {
   "cell_type": "code",
   "execution_count": null,
   "metadata": {},
   "outputs": [],
   "source": [
    "#%% Epoching the data\n",
    "reject = dict(grad=7000e-13, mag=7e-12, eog=250e-6)\n",
    "epochs = mne.Epochs(raw, events, par['event_dict'], -0.5, 0.5,\n",
    "        baseline=(-0.5,0), picks=None, preload=True, reject=None,\n",
    "        flat=None, proj=False, decim=1, reject_tmin=None,\n",
    "        reject_tmax=None, detrend=None, on_missing='error',\n",
    "        reject_by_annotation=True, verbose=True)"
   ]
  },
  {
   "cell_type": "code",
   "execution_count": null,
   "metadata": {},
   "outputs": [],
   "source": [
    "epochs"
   ]
  },
  {
   "cell_type": "code",
   "execution_count": null,
   "metadata": {},
   "outputs": [],
   "source": [
    "if more_plots:\n",
    "    for stimcat in list(par['event_dict'].keys())[0:8]:\n",
    "        epochs[stimcat].average().plot(spatial_colors=True,\n",
    "            titles=stimcat, gfp=True, time_unit='ms')"
   ]
  },
  {
   "cell_type": "code",
   "execution_count": null,
   "metadata": {},
   "outputs": [],
   "source": [
    "#%% Compute source space && forward solution/leadfield\n",
    "model = mne.make_bem_model(subject=subject, ico=4, conductivity=(0.33,),\n",
    "        subjects_dir=subjects_dir, verbose=True)"
   ]
  },
  {
   "cell_type": "code",
   "execution_count": null,
   "metadata": {},
   "outputs": [],
   "source": [
    "bem = mne.make_bem_solution(model)"
   ]
  },
  {
   "cell_type": "code",
   "execution_count": null,
   "metadata": {},
   "outputs": [],
   "source": [
    "src_vol = mne.setup_volume_source_space(subject=subject, pos=5.0,\n",
    "    mri=mrifile, bem=None, surface=surffile, mindist=2.5, exclude=10.0,\n",
    "    subjects_dir=subjects_dir, volume_label=None, add_interpolator=True,\n",
    "    verbose=True)"
   ]
  },
  {
   "cell_type": "code",
   "execution_count": null,
   "metadata": {},
   "outputs": [],
   "source": [
    "if more_plots:\n",
    "    mne.viz.plot_bem(subject=subject, subjects_dir=subjects_dir,\n",
    "        orientation='coronal', slices=range(73,193,5),\n",
    "        brain_surfaces='pial', src=src_vol, show=True)"
   ]
  },
  {
   "cell_type": "code",
   "execution_count": null,
   "metadata": {},
   "outputs": [],
   "source": [
    "if more_plots:\n",
    "    mne.viz.plot_alignment(epochs.info, trans=trans, subject=subject,\n",
    "        subjects_dir=subjects_dir, fig=None, \n",
    "        surfaces=['head-dense', 'inner_skull'], coord_frame='head',\n",
    "        show_axes=True, meg=False, eeg='original', dig=True, ecog=True,\n",
    "        bem=None, seeg=True, src=src_vol, mri_fiducials=False, verbose=True)"
   ]
  },
  {
   "cell_type": "code",
   "execution_count": null,
   "metadata": {},
   "outputs": [],
   "source": [
    "fwd = mne.make_forward_solution(epochs.info, trans=trans,\n",
    "    src=src_vol, bem=bem, meg=True, eeg=False, mindist=2.5,\n",
    "    n_jobs=4)\n",
    "\n",
    "print(\"Leadfield size : %d sensors x %d dipoles\" % fwd['sol']['data'].shape)"
   ]
  },
  {
   "cell_type": "code",
   "execution_count": null,
   "metadata": {},
   "outputs": [],
   "source": [
    "#%% Apply LCMV Beamformer\n",
    "stimcat = list(par['event_dict'].keys())[0]\n",
    "print(stimcat)\n",
    "par['ctrlwin'] = [-0.200, -0.050]\n",
    "par['actiwin'] = [0.050, 0.200]\n",
    "\n",
    "dfname_stimcat = dfname + '_' + stimcat\n",
    "print(dfname_stimcat)\n",
    "\n",
    "epochs_stimcat = epochs[stimcat]\n",
    "    \n",
    "#% % Find trial variance > index outliers> remove beyond plow and phigh percentile\n",
    "badtrls, plow, phigh = [], 2.0, 98.0\n",
    "\n",
    "############################\n",
    "bad_trials = my_var_cut_fn(epochs_stimcat, plow, phigh, to_plot=False)"
   ]
  },
  {
   "cell_type": "code",
   "execution_count": null,
   "metadata": {},
   "outputs": [],
   "source": [
    "#%% Apply LCMV Beamformer\n",
    "for stimcat in list(par['event_dict'].keys()):\n",
    "    print(stimcat)\n",
    "    if 'VEF' in stimcat:\n",
    "        par['ctrlwin'] = [-0.200, -0.050]\n",
    "        par['actiwin'] = [0.050, 0.200]\n",
    "    elif 'AEF' in stimcat:\n",
    "        par['ctrlwin'] = [-0.150, -0.020]\n",
    "        par['actiwin'] = [0.020, 0.150]\n",
    "    elif 'SEF' in stimcat:\n",
    "        par['ctrlwin'] = [-0.100, -0.010]\n",
    "        par['actiwin'] = [0.010, 0.100]\n",
    "    dfname_stimcat = dfname + '_' + stimcat\n",
    "    \n",
    "    epochs_stimcat = epochs[stimcat]\n",
    "    \n",
    "    #% % Find trial variance > index outliers> remove beyond plow and phigh percentile\n",
    "    badtrls, plow, phigh = [], 2.0, 98.0\n",
    "    bad_trials = my_var_cut_fn(epochs_stimcat, plow, phigh, to_plot=False)\n",
    "    print('\\n%d trial to remove from total %d trials...\\nNo. of remaining trials = %d' % (len(bad_trials),\n",
    "                                                                                          len(epochs_stimcat),\n",
    "                                                                                          len(epochs_stimcat)-len(bad_trials)))\n",
    "    epochs_stimcat.drop(bad_trials, reason='variance based rejection', verbose=True)\n",
    "    bad_trials = []\n",
    "    \n",
    "    # Compute covariance\n",
    "    noise_cov = mne.compute_covariance(epochs_stimcat,\n",
    "                    tmin=par['ctrlwin'][0], tmax=par['ctrlwin'][1], method='empirical',\n",
    "                    verbose=True)\n",
    "    data_cov = mne.compute_covariance(epochs_stimcat,\n",
    "                    tmin=par['actiwin'][0], tmax=par['actiwin'][1], method='empirical',\n",
    "                    verbose=True)\n",
    "    \n",
    "    evoked = epochs_stimcat.average()\n",
    "    evoked = evoked.crop(par['actiwin'][0], par['actiwin'][1])\n",
    "    \n",
    "    # Pull rank from preprocessing history\n",
    "    cov_rank = None if epochs_stimcat.info['proc_history']==[] else int(epochs_stimcat.info['proc_history'][0]['max_info']['sss_info']['nfree'])\n",
    "    \n",
    "    # Compute SNR\n",
    "    inverse_operator = mne.minimum_norm.make_inverse_operator(evoked.info, fwd, noise_cov,\n",
    "                          rank=cov_rank, loose=1, depth=0.199, verbose=True)\n",
    "    snr, _ = mne.minimum_norm.estimate_snr(evoked, inverse_operator, verbose=True)\n",
    "    peak_ch, peak_time = evoked.get_peak(ch_type='grad')\n",
    "    tstep = 1000 / (evoked.info['sfreq'] * 1000)\n",
    "    tp = int(peak_time // tstep - evoked.times[0]//tstep)\n",
    "    SNR = snr[tp]\n",
    "    \n",
    "    # Compute filter and output\n",
    "    filters = mne.beamformer.make_lcmv(epochs_stimcat.info, fwd, data_cov, reg=0.05,\n",
    "                  noise_cov=noise_cov, pick_ori='max-power', rank=cov_rank,\n",
    "                  weight_norm='nai', reduce_rank=True, verbose=True)\n",
    "    \n",
    "    stc = mne.beamformer.apply_lcmv(evoked, filters, max_ori_out='signed', verbose=True)\n",
    "    stc = np.abs(stc)\n",
    "    src_peak, t_peak = stc.get_peak()\n",
    "    timepoint = int(t_peak//stc.tstep - stc.times[0]//stc.tstep)\n",
    "    \n",
    "    #% % Detect peak over summed power over time:: Stable over time\n",
    "    stc_pow_series = np.square(stc)\n",
    "    stc_power = stc_pow_series.sum()\n",
    "    \n",
    "    src_peak, _ = stc_power.get_peak()\n",
    "    est_loc = fwd['src'][0]['rr'][src_peak]*1000\n",
    "    \n",
    "    #% % Calculate localisation error \n",
    "    loc_err = np.sqrt(np.sum(np.square(par['act_loc'][stimcat]-est_loc)));\n",
    "    stc_power_data = stc_power.copy().data\n",
    "    n_act_grid = len(stc_power_data[stc_power_data > (stc_power_data.max()*0.50)])\n",
    "    PSVol      = n_act_grid * (5.0 ** 3)\n",
    "    \n",
    "    print('Act_Sourceloc for %s' %dfname_stimcat + '= %s' % str(par['act_loc'][stimcat]))\n",
    "    print('Est_Sourceloc for %s' %dfname_stimcat + '= %s' % str(np.around(est_loc,1)))\n",
    "    print('Loc_error for %s' %dfname_stimcat + '= %.1f mm' %loc_err)\n",
    "    print('Point Spread Volume (PSV) for %s' %dfname_stimcat + '= %.1f mm' %PSVol)\n",
    "    \n",
    "    #% % Plot the activation\n",
    "    img = stc.as_volume(fwd['src'], dest='mri', mri_resolution=False, format='nifti1')\n",
    "    plot_stat_map(index_img(img, timepoint), mrifile, threshold=stc.data.max()*0.50)\n",
    "    plt.suptitle('%s\\n'%dfname_stimcat +\n",
    "                 'PeakValue = %.3f' % stc.data.max() + 'Est_loc = [%.1f,%.1f,%.1f], ' %tuple(est_loc) +\n",
    "                 'Loc_err = %.2f mm' % loc_err, fontsize=12, color='white')"
   ]
  },
  {
   "cell_type": "code",
   "execution_count": null,
   "metadata": {},
   "outputs": [],
   "source": []
  }
 ],
 "metadata": {
  "kernelspec": {
   "display_name": "Python 3",
   "language": "python",
   "name": "python3"
  },
  "language_info": {
   "codemirror_mode": {
    "name": "ipython",
    "version": 3
   },
   "file_extension": ".py",
   "mimetype": "text/x-python",
   "name": "python",
   "nbconvert_exporter": "python",
   "pygments_lexer": "ipython3",
   "version": "3.8.6"
  }
 },
 "nbformat": 4,
 "nbformat_minor": 4
}

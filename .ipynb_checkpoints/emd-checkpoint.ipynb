{
 "cells": [
  {
   "cell_type": "code",
   "execution_count": null,
   "metadata": {},
   "outputs": [],
   "source": [
    "from PyEMD import EMD, Visualisation # First download PyEMD: pip install EMD-signal"
   ]
  },
  {
   "cell_type": "code",
   "execution_count": null,
   "metadata": {},
   "outputs": [],
   "source": [
    "S = average_stc_label_mean # Signal to be decomposed\n",
    "times = average_stc.times # Time axis for signal\n",
    "emd = EMD()\n",
    "emd.emd(S)\n",
    "imfs, res = emd.get_imfs_and_residue()"
   ]
  },
  {
   "cell_type": "code",
   "execution_count": null,
   "metadata": {},
   "outputs": [],
   "source": [
    "vis = Visualisation()\n",
    "vis.plot_imfs(imfs=imfs, residue=res, t=times, include_residue=True)\n",
    "vis.plot_instant_freq(times, imfs=imfs)\n",
    "vis.show()"
   ]
  },
  {
   "cell_type": "code",
   "execution_count": null,
   "metadata": {},
   "outputs": [],
   "source": [
    "plt.figure()\n",
    "h0 = plt.plot(times, imfs[1,:], 'k')\n",
    "h1, = plt.plot(times, imfs[3,:], 'b')\n",
    "plt.xlim(times[0], times[-1])\n",
    "plt.show()"
   ]
  }
 ],
 "metadata": {
  "kernelspec": {
   "display_name": "Python 3",
   "language": "python",
   "name": "python3"
  },
  "language_info": {
   "codemirror_mode": {
    "name": "ipython",
    "version": 3
   },
   "file_extension": ".py",
   "mimetype": "text/x-python",
   "name": "python",
   "nbconvert_exporter": "python",
   "pygments_lexer": "ipython3",
   "version": "3.8.6"
  }
 },
 "nbformat": 4,
 "nbformat_minor": 4
}

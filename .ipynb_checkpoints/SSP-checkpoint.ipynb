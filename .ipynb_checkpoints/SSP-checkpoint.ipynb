{
 "cells": [
  {
   "cell_type": "code",
   "execution_count": 1,
   "metadata": {},
   "outputs": [],
   "source": [
    "%matplotlib qt\n",
    "import mne\n",
    "import numpy as np\n",
    "import matplotlib.pyplot as plt\n",
    "import os.path as op\n",
    "\n",
    "from mne.minimum_norm import make_inverse_operator, apply_inverse\n",
    "\n",
    "import warnings\n",
    "warnings.simplefilter(\"ignore\", category=DeprecationWarning)\n",
    "mne.set_log_level('WARNING')"
   ]
  },
  {
   "cell_type": "code",
   "execution_count": 2,
   "metadata": {},
   "outputs": [],
   "source": [
    "FIRST_EV = [65.583, 67.787, 68.485, 51.884, 48.919, 55.836, 1, 93, 48.372, 55.292, 64.907, 68.374, 66.375, 66.901, 67.261]"
   ]
  },
  {
   "cell_type": "code",
   "execution_count": 3,
   "metadata": {},
   "outputs": [],
   "source": [
    "def var_reject(epochs, plow, phigh, to_plot=True):\n",
    "    \"\"\"\n",
    "    Variance based trial rejection function\n",
    "    \"\"\"\n",
    "    badtrls = []\n",
    "    trl_var, trlindx = np.empty((0,1),'float'), np.arange(0,len(epochs))\n",
    "    for trnum in range(len(epochs)):\n",
    "        trl_var = np.vstack((trl_var, max(np.var(np.squeeze(epochs[trnum].get_data()), axis=1))))\n",
    "    lim1 = (trl_var < np.percentile(trl_var, plow, interpolation='midpoint')).flatten()\n",
    "    lim2 = (trl_var > np.percentile(trl_var, phigh, interpolation='midpoint')).flatten()\n",
    "    outlr_idx = trlindx[lim1].tolist() + trlindx[lim2].tolist()\n",
    "    \n",
    "    if to_plot:\n",
    "        plt.figure(), plt.scatter(trlindx, trl_var, marker='o', s=50, c='g', label='Good trials'),\n",
    "        plt.ylabel('Max. variance across channels-->')\n",
    "        plt.scatter(outlr_idx, trl_var[outlr_idx], marker='o', s=50, c='r', label='Variance based bad trials'),\n",
    "        plt.xlabel('Trial number-->')\n",
    "        plt.scatter(badtrls, trl_var[badtrls], marker='o', s=50, c='orange', label='Manually assigned bad trials')\n",
    "        plt.ylim(min(trl_var)-min(trl_var)*0.01, max(trl_var)+max(trl_var)*0.01), plt.title('Max. variance distribution')\n",
    "        plt.legend()\n",
    "        plt.show()\n",
    "    bad_trials = np.union1d(badtrls, outlr_idx)\n",
    "#     print('Trials to be removed: %s\\n'%bad_trials)\n",
    "    return bad_trials"
   ]
  },
  {
   "cell_type": "code",
   "execution_count": 4,
   "metadata": {},
   "outputs": [],
   "source": [
    "def set_params(iSub, ctrlwin=[-0.5, 0], actiwin=[0, 1], plow=2, phigh=98, dominant_brain=\"right\"):\n",
    "    \"\"\"\n",
    "    Set parameters, directories and filenames for the subject\n",
    "    \"\"\"\n",
    "\n",
    "    par = {'ctrlwin': ctrlwin, 'actiwin': actiwin}\n",
    "    par['plow'], par['phigh'] = plow, phigh\n",
    "\n",
    "    par['data_dir'] = op.expanduser(\"~/data/pic-name-data-bids/\")\n",
    "    sSub = '%02d' % iSub\n",
    "    session , task, run = '01', 'picturenaming', '01'\n",
    "\n",
    "    par['data_path'] = op.join(par['data_dir'], 'MEG')\n",
    "    subjects_dir = op.join(par['data_dir'], 'MRI')\n",
    "    subject = 'sub-' + sSub\n",
    "    par['res_dir'] = op.join(op.expanduser(\"~/research/results/picname\"), subject)\n",
    "\n",
    "    par['bids_fname'] = subject + '_ses-' + session + '_task-' + task + '_run-' + run + '_meg.fif'\n",
    "    par['bids_path'] = op.join(par['data_path'], subject, 'ses-'+session, 'meg')\n",
    "    par['raw_fname'] = op.join(par['bids_path'], par['bids_fname'])\n",
    "    par['trans_fname'] = op.join(par['bids_path'], subject+'-trans.fif')\n",
    "    par['fwd_fname'] = op.join(par['bids_path'], subject + '-cort-meg-fwd.fif')\n",
    "    par['mrifile'] = op.join(subjects_dir, subject, 'mri/T1.mgz')\n",
    "    par['surffile'] = op.join(subjects_dir, subject, \n",
    "                              'bem/watershed', subject+'_brain_surface')\n",
    "    par['stc_fname'] = op.join(par['res_dir'], 'dspm_' + subject)\n",
    "    par['info'] = mne.io.read_info(par['raw_fname'])\n",
    "    par['dominant_brain'] = dominant_brain\n",
    "    \n",
    "    # Set time instant for cropping raw data in the beginning\n",
    "    par['raw_tmin'] = FIRST_EV[iSub-1] - 0.501\n",
    "    \n",
    "    # Changing of EEG channels to EOG/ECG\n",
    "    if subject == 'sub-06':\n",
    "        par['change_eeg_channels'] = True\n",
    "    else:\n",
    "        par['change_eeg_channels'] = False\n",
    "        \n",
    "    # Applying EOG/ECG SSP\n",
    "    if iSub in [1, 2, 3, 4, 6]:\n",
    "        par['apply_ssp_eog'] = True\n",
    "        par['apply_ssp_ecg'] = True\n",
    "    elif iSub in range(7, 16):\n",
    "        par['apply_ssp_eog'] = True\n",
    "        par['apply_ssp_ecg'] = False\n",
    "    elif iSub == 100:\n",
    "        par['apply_ssp_eog'] = False\n",
    "        par['apply_ssp_ecg'] = True\n",
    "    elif iSub == 5:\n",
    "        par['apply_ssp_eog'] = False\n",
    "        par['apply_ssp_ecg'] = False\n",
    "    \n",
    "    return par, subject, subjects_dir"
   ]
  },
  {
   "cell_type": "code",
   "execution_count": null,
   "metadata": {},
   "outputs": [],
   "source": [
    "more_plots = False\n",
    "par, subject, subjects_dir = set_params(14, dominant_brain='right')"
   ]
  },
  {
   "cell_type": "code",
   "execution_count": null,
   "metadata": {},
   "outputs": [],
   "source": [
    "par['raw_tmin']"
   ]
  },
  {
   "cell_type": "code",
   "execution_count": null,
   "metadata": {},
   "outputs": [],
   "source": [
    "raw = mne.io.read_raw_fif(par['raw_fname'], allow_maxshield=False, preload=True, verbose=True)\n",
    "raw.crop(tmin=par['raw_tmin'], tmax=None)"
   ]
  },
  {
   "cell_type": "code",
   "execution_count": null,
   "metadata": {},
   "outputs": [],
   "source": [
    "events = mne.find_events(raw, stim_channel='STI101',\n",
    "                              min_duration=0.002, shortest_event=2)\n",
    "delay = int(round(0.056 * raw.info['sfreq']))\n",
    "events[:, 0] = events[:, 0] + delay"
   ]
  },
  {
   "cell_type": "code",
   "execution_count": null,
   "metadata": {},
   "outputs": [],
   "source": [
    "len(events)"
   ]
  },
  {
   "cell_type": "code",
   "execution_count": null,
   "metadata": {},
   "outputs": [],
   "source": [
    "if more_plots:\n",
    "    mne.viz.plot_events(events, first_samp=0, event_id=None,\n",
    "                       equal_spacing=True, show=True)"
   ]
  },
  {
   "cell_type": "code",
   "execution_count": null,
   "metadata": {},
   "outputs": [],
   "source": [
    "if par['change_eeg_channels']:\n",
    "    print(\"Renaming EEG channels and changing channel types for subject:\", subject)\n",
    "    raw.set_channel_types({'EEG061': 'eog', 'EEG062': 'ecg'})\n",
    "    raw.rename_channels({'EEG061': 'EOG061', 'EEG062': 'ECG062'})"
   ]
  },
  {
   "cell_type": "code",
   "execution_count": null,
   "metadata": {},
   "outputs": [],
   "source": [
    "if par['apply_ssp_eog']:\n",
    "    print('Computing EOG projectors')\n",
    "    # Create EOG projectors and apply SSP\n",
    "    eog_epochs = mne.preprocessing.create_eog_epochs(raw)\n",
    "    eog_epochs.average().plot_joint()\n",
    "    plt.savefig(op.join(par['res_dir'], 'eog_evoked_' + subject + '.pdf'))\n",
    "    projs_eog, _ = mne.preprocessing.compute_proj_eog(raw, n_mag=3, n_grad=3, average=True)"
   ]
  },
  {
   "cell_type": "code",
   "execution_count": null,
   "metadata": {},
   "outputs": [],
   "source": [
    "if par['apply_ssp_ecg']:\n",
    "    print('Computing ECG projectors')\n",
    "    # Create ECG projectors and apply SSP\n",
    "    ecg_epochs = mne.preprocessing.create_ecg_epochs(raw)\n",
    "    ecg_epochs.average().plot_joint()\n",
    "    plt.savefig(op.join(par['res_dir'], 'ecg_evoked_' + subject + '.pdf'))\n",
    "    projs_ecg, _ = mne.preprocessing.compute_proj_ecg(raw, n_mag=3, n_grad=3, average=True)"
   ]
  },
  {
   "cell_type": "code",
   "execution_count": null,
   "metadata": {},
   "outputs": [],
   "source": [
    "picks = mne.pick_types(raw.info, meg=True, exclude='bads')"
   ]
  },
  {
   "cell_type": "code",
   "execution_count": null,
   "metadata": {},
   "outputs": [],
   "source": [
    "raw.filter(1, 20, picks=picks, filter_length='auto', n_jobs=1,\n",
    "      method='fir', iir_params=None, phase='zero', fir_window='hamming',\n",
    "      fir_design='firwin', skip_by_annotation=('edge', 'bad_acq_skip'),\n",
    "      pad='reflect_limited', verbose=True)\n",
    "if more_plots:\n",
    "    raw.plot_psd(fmin=0, fmax=25, proj=False, verbose=True)"
   ]
  },
  {
   "cell_type": "code",
   "execution_count": null,
   "metadata": {},
   "outputs": [],
   "source": [
    "epochs = mne.Epochs(raw, events, tmin=par['ctrlwin'][0], tmax=par['actiwin'][1],\n",
    "                   baseline=(par['ctrlwin'][0],par['ctrlwin'][1]), picks=picks, \n",
    "                   preload=True, proj=False, verbose=True)"
   ]
  },
  {
   "cell_type": "code",
   "execution_count": null,
   "metadata": {},
   "outputs": [],
   "source": [
    "# Add desirable projectors\n",
    "if par['apply_ssp_eog'] & par['apply_ssp_ecg']:\n",
    "    print('EOG+ECG:', subject)\n",
    "    epochs.del_proj()\n",
    "    epochs.add_proj(projs_eog[::3] + projs_ecg[::3]);\n",
    "    epochs.apply_proj();\n",
    "elif par['apply_ssp_eog'] | par['apply_ssp_ecg']:\n",
    "    if par['apply_ssp_eog']:\n",
    "        print('EOG:', subject)\n",
    "        epochs.del_proj()\n",
    "        epochs.add_proj(projs_eog[::3]);\n",
    "        epochs.apply_proj();\n",
    "    else:\n",
    "        print('ECG:', subject)\n",
    "        epochs.del_proj()\n",
    "        epochs.add_proj(projs_ecg[::3]);\n",
    "        epochs.apply_proj();\n",
    "else:\n",
    "    print('No SSP:', subject)\n",
    "    epochs.del_proj()"
   ]
  },
  {
   "cell_type": "code",
   "execution_count": null,
   "metadata": {},
   "outputs": [],
   "source": [
    "bad_trials = var_reject(epochs, par['plow'], par['phigh'], to_plot=True)\n",
    "plt.savefig(op.join(par['res_dir'], 'trial_variances_' + subject + '.pdf'))\n",
    "epochs.drop(bad_trials, reason='variance based rejection', verbose=True);"
   ]
  },
  {
   "cell_type": "code",
   "execution_count": null,
   "metadata": {},
   "outputs": [],
   "source": [
    "evoked = epochs.average()\n",
    "evoked.plot(spatial_colors=True, gfp=True, time_unit='ms')"
   ]
  },
  {
   "cell_type": "code",
   "execution_count": null,
   "metadata": {},
   "outputs": [],
   "source": [
    "fwd = mne.read_forward_solution(par['fwd_fname'])"
   ]
  },
  {
   "cell_type": "code",
   "execution_count": null,
   "metadata": {},
   "outputs": [],
   "source": [
    "noise_cov = mne.compute_covariance(epochs,\n",
    "                tmin=par['ctrlwin'][0], tmax=par['ctrlwin'][1],\n",
    "                method=['shrunk', 'empirical'], rank='info', verbose=True)"
   ]
  },
  {
   "cell_type": "code",
   "execution_count": null,
   "metadata": {},
   "outputs": [],
   "source": [
    "inverse_operator = make_inverse_operator(par['info'], fwd, noise_cov, loose=0.2, depth=0.8)"
   ]
  },
  {
   "cell_type": "code",
   "execution_count": null,
   "metadata": {},
   "outputs": [],
   "source": [
    "method, lambda2 = \"dSPM\", 1 / 3 ** 2\n",
    "stc = apply_inverse(evoked, inverse_operator, lambda2, method=method, pick_ori=None)"
   ]
  },
  {
   "cell_type": "code",
   "execution_count": null,
   "metadata": {},
   "outputs": [],
   "source": [
    "plt.figure()\n",
    "plt.plot(1e3 * stc.times, stc.data[::100, :].T)\n",
    "plt.xlabel('Time (ms)')\n",
    "plt.ylabel('%s value' % method)\n",
    "plt.savefig(op.join(par['res_dir'], 'evoked_dspm_100_' + subject + '.pdf'))"
   ]
  },
  {
   "cell_type": "code",
   "execution_count": null,
   "metadata": {},
   "outputs": [],
   "source": []
  }
 ],
 "metadata": {
  "kernelspec": {
   "display_name": "Python 3",
   "language": "python",
   "name": "python3"
  },
  "language_info": {
   "codemirror_mode": {
    "name": "ipython",
    "version": 3
   },
   "file_extension": ".py",
   "mimetype": "text/x-python",
   "name": "python",
   "nbconvert_exporter": "python",
   "pygments_lexer": "ipython3",
   "version": "3.8.6"
  }
 },
 "nbformat": 4,
 "nbformat_minor": 4
}

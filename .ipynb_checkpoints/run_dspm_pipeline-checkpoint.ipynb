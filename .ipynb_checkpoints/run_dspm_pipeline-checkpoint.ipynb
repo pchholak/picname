{
 "cells": [
  {
   "cell_type": "code",
   "execution_count": 1,
   "metadata": {},
   "outputs": [],
   "source": [
    "from main_dspm_function import run_dspm\n",
    "import numpy as np"
   ]
  },
  {
   "cell_type": "code",
   "execution_count": 2,
   "metadata": {},
   "outputs": [],
   "source": [
    "iSubjects = np.delete(np.arange(1, 16), [0, 1, 2])\n",
    "iSubjects\n",
    "# iSubjects = [3]"
   ]
  },
  {
   "cell_type": "code",
   "execution_count": 3,
   "metadata": {},
   "outputs": [
    {
     "name": "stdout",
     "output_type": "stream",
     "text": [
      "Running dSPM for sub-03\n",
      "Opening raw data file /home/anakin/data/pic-name-data-bids/MEG/sub-03/ses-01/meg/sub-03_ses-01_task-picturenaming_run-01_meg.fif...\n",
      "    Range : 35000 ... 692999 =     35.000 ...   692.999 secs\n",
      "Ready.\n",
      "Reading 0 ... 657999  =      0.000 ...   657.999 secs...\n",
      "Computing EOG projectors\n",
      "Filtering raw data in 1 contiguous segment\n",
      "Setting up band-pass filter from 1 - 35 Hz\n",
      "\n",
      "FIR filter parameters\n",
      "---------------------\n",
      "Designing a two-pass forward and reverse, zero-phase, non-causal bandpass filter:\n",
      "- Windowed frequency-domain design (firwin2) method\n",
      "- Hamming window\n",
      "- Lower passband edge: 1.00\n",
      "- Lower transition bandwidth: 0.50 Hz (-12 dB cutoff frequency: 0.75 Hz)\n",
      "- Upper passband edge: 35.00 Hz\n",
      "- Upper transition bandwidth: 0.50 Hz (-12 dB cutoff frequency: 35.25 Hz)\n",
      "- Filter length: 10000 samples (10.000 sec)\n",
      "\n",
      "Computing ECG projectors\n",
      "Filtering raw data in 1 contiguous segment\n",
      "Setting up band-pass filter from 1 - 35 Hz\n",
      "\n",
      "FIR filter parameters\n",
      "---------------------\n",
      "Designing a two-pass forward and reverse, zero-phase, non-causal bandpass filter:\n",
      "- Windowed frequency-domain design (firwin2) method\n",
      "- Hamming window\n",
      "- Lower passband edge: 1.00\n",
      "- Lower transition bandwidth: 0.50 Hz (-12 dB cutoff frequency: 0.75 Hz)\n",
      "- Upper passband edge: 35.00 Hz\n",
      "- Upper transition bandwidth: 0.50 Hz (-12 dB cutoff frequency: 35.25 Hz)\n",
      "- Filter length: 10000 samples (10.000 sec)\n",
      "\n",
      "Filtering raw data in 1 contiguous segment\n",
      "Setting up band-pass filter from 1 - 20 Hz\n",
      "\n",
      "FIR filter parameters\n",
      "---------------------\n",
      "Designing a one-pass, zero-phase, non-causal bandpass filter:\n",
      "- Windowed time-domain design (firwin) method\n",
      "- Hamming window with 0.0194 passband ripple and 53 dB stopband attenuation\n",
      "- Lower passband edge: 1.00\n",
      "- Lower transition bandwidth: 1.00 Hz (-6 dB cutoff frequency: 0.50 Hz)\n",
      "- Upper passband edge: 20.00 Hz\n",
      "- Upper transition bandwidth: 5.00 Hz (-6 dB cutoff frequency: 22.50 Hz)\n",
      "- Filter length: 3301 samples (3.301 sec)\n",
      "\n",
      "Not setting metadata\n",
      "Not setting metadata\n",
      "120 matching events found\n",
      "Applying baseline correction (mode: mean)\n",
      "Loading data for 120 events and 1501 original time points ...\n",
      "0 bad epochs dropped\n",
      "EOG+ECG: sub-03\n",
      "4 projection items deactivated\n",
      "Created an SSP operator (subspace dimension = 4)\n",
      "4 projection items activated\n",
      "SSP projectors applied...\n",
      "Dropped 6 epochs: 4.0, 27.0, 37.0, 50.0, 107.0, 114.0\n",
      "Leadfield size : 306 sensors x 24588 dipoles\n",
      "Computing rank from data with rank='info'\n",
      "    MEG: rank 66 after 4 projectors applied to 306 channels\n",
      "    Created an SSP operator (subspace dimension = 4)\n",
      "    Setting small MEG eigenvalues to zero (without PCA)\n",
      "Reducing data rank from 306 -> 66\n",
      "Estimating covariance using SHRUNK\n",
      "Done.\n",
      "Estimating covariance using EMPIRICAL\n",
      "Done.\n",
      "Using cross-validation to select the best estimator.\n",
      "Number of samples used : 57114\n",
      "log-likelihood on unseen data (descending order):\n",
      "   shrunk: -416.439\n",
      "   empirical: -416.448\n",
      "selecting best estimator: shrunk\n",
      "[done]\n",
      "Preparing the inverse operator for use...\n",
      "    Scaled noise and source covariance from nave = 1 to nave = 114\n",
      "    Created the regularized inverter\n",
      "    The projection vectors do not apply to these channels.\n",
      "    Created the whitener using a noise covariance matrix with rank 66 (240 small eigenvalues omitted)\n",
      "Picked 306 channels from the data\n",
      "Effective nchan = 306 - 240 = 66\n",
      "\n",
      "Max SNR at 0.352 s : 3.602\n",
      "lateraloccipital-lh\n",
      "lateraloccipital-rh\n",
      "Brodmann.22-rh\n",
      "Brodmann.44-rh\n",
      "Brodmann.45-rh\n"
     ]
    }
   ],
   "source": [
    "for iSub in iSubjects:\n",
    "    print(\"Running dSPM for sub-%02d\" % iSub)\n",
    "    run_dspm(iSub, 'right')"
   ]
  },
  {
   "cell_type": "code",
   "execution_count": null,
   "metadata": {},
   "outputs": [],
   "source": []
  }
 ],
 "metadata": {
  "kernelspec": {
   "display_name": "Python 3",
   "language": "python",
   "name": "python3"
  },
  "language_info": {
   "codemirror_mode": {
    "name": "ipython",
    "version": 3
   },
   "file_extension": ".py",
   "mimetype": "text/x-python",
   "name": "python",
   "nbconvert_exporter": "python",
   "pygments_lexer": "ipython3",
   "version": "3.8.6"
  }
 },
 "nbformat": 4,
 "nbformat_minor": 4
}

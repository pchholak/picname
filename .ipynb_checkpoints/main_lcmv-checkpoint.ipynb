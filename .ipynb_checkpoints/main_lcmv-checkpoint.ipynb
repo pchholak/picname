{
 "cells": [
  {
   "cell_type": "code",
   "execution_count": 1,
   "metadata": {},
   "outputs": [],
   "source": [
    "%matplotlib qt\n",
    "import mne\n",
    "import numpy as np\n",
    "import matplotlib.pyplot as plt\n",
    "import os.path as op\n",
    "from nilearn.plotting import plot_stat_map\n",
    "from nilearn.image import index_img\n",
    "import warnings\n",
    "from mne.time_frequency import tfr_morlet, psd_multitaper, psd_welch\n",
    "\n",
    "mne.set_log_level('WARNING')\n",
    "warnings.simplefilter(\"ignore\", category=DeprecationWarning)"
   ]
  },
  {
   "cell_type": "code",
   "execution_count": 2,
   "metadata": {},
   "outputs": [],
   "source": [
    "def my_var_cut_fn(epochs, plow, phigh, to_plot=True):\n",
    "    \"\"\"\n",
    "    Variance based trial rejection function\n",
    "    \"\"\"\n",
    "    trl_var, trlindx = np.empty((0,1),'float'), np.arange(0,len(epochs))\n",
    "    for trnum in range(len(epochs)):\n",
    "        trl_var = np.vstack((trl_var, max(np.var(np.squeeze(epochs[trnum].get_data()), axis=1))))\n",
    "    lim1 = (trl_var < np.percentile(trl_var, plow, interpolation='midpoint')).flatten()\n",
    "    lim2 = (trl_var > np.percentile(trl_var, phigh, interpolation='midpoint')).flatten()\n",
    "    outlr_idx = trlindx[lim1].tolist() + trlindx[lim2].tolist()\n",
    "    \n",
    "    if to_plot:\n",
    "        plt.figure(), plt.scatter(trlindx, trl_var, marker='o', s=50, c='g', label='Good trials'),\n",
    "        plt.ylabel('Max. variance across channels-->')\n",
    "        plt.scatter(outlr_idx, trl_var[outlr_idx], marker='o', s=50, c='r', label='Variance based bad trials'),\n",
    "        plt.xlabel('Trial number-->')\n",
    "        plt.scatter(badtrls, trl_var[badtrls], marker='o', s=50, c='orange', label='Manually assigned bad trials')\n",
    "        plt.ylim(min(trl_var)-min(trl_var)*0.01, max(trl_var)+max(trl_var)*0.01), plt.title('Max. variance distribution')\n",
    "        plt.legend()\n",
    "        plt.show()\n",
    "    bad_trials = np.union1d(badtrls, outlr_idx)\n",
    "    print('Removed trials: %s\\n'%bad_trials)\n",
    "    return bad_trials"
   ]
  },
  {
   "cell_type": "code",
   "execution_count": 3,
   "metadata": {},
   "outputs": [],
   "source": [
    "#%% Set parameters, directories and filenames\n",
    "iSub = 1\n",
    "more_plots = True\n",
    "\n",
    "par = {'ctrlwin': [-0.5, 0], 'actiwin': [0, 1]}\n",
    "badtrls, plow, phigh = [], 2.0, 98.0\n",
    "\n",
    "data_dir = op.expanduser(\"~/data/pic-name-data-bids/\")\n",
    "sSub, session, task, run = '%02d'%iSub, '01', 'picturenaming', '01'\n",
    "\n",
    "data_path = op.join(data_dir, 'MEG')\n",
    "subjects_dir = op.join(data_dir, 'MRI')\n",
    "subject = 'sub-' + sSub\n",
    "res_dir = op.join(op.expanduser(\"~/research/results/picname\"), subject)"
   ]
  },
  {
   "cell_type": "code",
   "execution_count": 4,
   "metadata": {},
   "outputs": [],
   "source": [
    "bids_fname = subject + '_ses-' + session + '_task-' + task + '_run-' + run + '_meg.fif'\n",
    "bids_path = op.join(data_path, subject, 'ses-'+session, 'meg')"
   ]
  },
  {
   "cell_type": "code",
   "execution_count": 5,
   "metadata": {},
   "outputs": [
    {
     "name": "stdout",
     "output_type": "stream",
     "text": [
      "/home/anakin/data/pic-name-data-bids/MEG/sub-01/ses-01/meg/sub-01_ses-01_task-picturenaming_run-01_meg.fif\n",
      "/home/anakin/data/pic-name-data-bids/MEG/sub-01/ses-01/meg/sub-01-trans.fif\n",
      "/home/anakin/data/pic-name-data-bids/MEG/sub-01/ses-01/meg/sub-01-vol-meg-fwd.fif\n"
     ]
    }
   ],
   "source": [
    "# bids_fname = bids_basename + '_meg.fif'\n",
    "# bids_path = op.join(data_path, subject, 'ses-'+session, 'meg')\n",
    "\n",
    "raw_fname = op.join(bids_path, bids_fname)\n",
    "trans_fname = op.join(bids_path, subject+'-trans.fif')\n",
    "fwd_fname = op.join(bids_path, subject + '-vol-meg-fwd.fif')\n",
    "\n",
    "print(raw_fname)\n",
    "print(trans_fname)\n",
    "print(fwd_fname)"
   ]
  },
  {
   "cell_type": "code",
   "execution_count": 6,
   "metadata": {},
   "outputs": [
    {
     "name": "stdout",
     "output_type": "stream",
     "text": [
      "Opening raw data file /home/anakin/data/pic-name-data-bids/MEG/sub-01/ses-01/meg/sub-01_ses-01_task-picturenaming_run-01_meg.fif...\n",
      "    Range : 16000 ... 709999 =     16.000 ...   709.999 secs\n",
      "Ready.\n",
      "Reading 0 ... 693999  =      0.000 ...   693.999 secs...\n"
     ]
    }
   ],
   "source": [
    "raw = mne.io.read_raw_fif(raw_fname, allow_maxshield=False, preload=True, verbose=True)"
   ]
  },
  {
   "cell_type": "code",
   "execution_count": null,
   "metadata": {},
   "outputs": [],
   "source": [
    "# raw.info"
   ]
  },
  {
   "cell_type": "code",
   "execution_count": null,
   "metadata": {},
   "outputs": [],
   "source": [
    "# mne.bem.make_watershed_bem(subject, subjects_dir)"
   ]
  },
  {
   "cell_type": "code",
   "execution_count": 7,
   "metadata": {},
   "outputs": [],
   "source": [
    "mrifile = op.join(subjects_dir, subject, 'mri/T1.mgz')\n",
    "surffile = op.join(subjects_dir, subject, 'bem/watershed', subject+'_brain_surface')"
   ]
  },
  {
   "cell_type": "code",
   "execution_count": null,
   "metadata": {},
   "outputs": [],
   "source": [
    "# to_drop = ['STI201', 'STI301', 'CHPI001', 'CHPI002', 'CHPI003', 'CHPI004', 'CHPI005', 'CHPI006',\n",
    "#            'CHPI007', 'CHPI008', 'CHPI009']\n",
    "# raw.drop_channels(to_drop)"
   ]
  },
  {
   "cell_type": "code",
   "execution_count": null,
   "metadata": {},
   "outputs": [],
   "source": [
    "# raw.plot();"
   ]
  },
  {
   "cell_type": "code",
   "execution_count": null,
   "metadata": {},
   "outputs": [],
   "source": [
    "# raw.annotations.save(data_path + subject +'/annot.csv')"
   ]
  },
  {
   "cell_type": "code",
   "execution_count": 8,
   "metadata": {},
   "outputs": [],
   "source": [
    "events = mne.find_events(raw, stim_channel='STI101',\n",
    "                                  min_duration=0.001, shortest_event=1)"
   ]
  },
  {
   "cell_type": "code",
   "execution_count": 9,
   "metadata": {},
   "outputs": [
    {
     "data": {
      "text/plain": [
       "120"
      ]
     },
     "execution_count": 9,
     "metadata": {},
     "output_type": "execute_result"
    }
   ],
   "source": [
    "len(events)"
   ]
  },
  {
   "cell_type": "code",
   "execution_count": 10,
   "metadata": {},
   "outputs": [
    {
     "name": "stderr",
     "output_type": "stream",
     "text": [
      "<ipython-input-10-ed77daed46fc>:2: RuntimeWarning: More events than default colors available. You should pass a list of unique colors.\n",
      "  mne.viz.plot_events(events, first_samp=0, event_id=None,\n"
     ]
    }
   ],
   "source": [
    "if more_plots:\n",
    "    mne.viz.plot_events(events, first_samp=0, event_id=None,\n",
    "                       equal_spacing=True, show=True)"
   ]
  },
  {
   "cell_type": "code",
   "execution_count": 11,
   "metadata": {},
   "outputs": [],
   "source": [
    "picks = mne.pick_types(raw.info, meg=True, eog=True, ecg=True, stim=False, exclude='bads')"
   ]
  },
  {
   "cell_type": "code",
   "execution_count": 12,
   "metadata": {},
   "outputs": [
    {
     "name": "stdout",
     "output_type": "stream",
     "text": [
      "Filtering raw data in 1 contiguous segment\n",
      "Setting up band-pass filter from 2 - 40 Hz\n",
      "\n",
      "FIR filter parameters\n",
      "---------------------\n",
      "Designing a one-pass, zero-phase, non-causal bandpass filter:\n",
      "- Windowed time-domain design (firwin) method\n",
      "- Hamming window with 0.0194 passband ripple and 53 dB stopband attenuation\n",
      "- Lower passband edge: 2.00\n",
      "- Lower transition bandwidth: 2.00 Hz (-6 dB cutoff frequency: 1.00 Hz)\n",
      "- Upper passband edge: 40.00 Hz\n",
      "- Upper transition bandwidth: 10.00 Hz (-6 dB cutoff frequency: 45.00 Hz)\n",
      "- Filter length: 1651 samples (1.651 sec)\n",
      "\n"
     ]
    },
    {
     "data": {
      "text/plain": [
       "<Raw | sub-01_ses-01_task-picturenaming_run-01_meg.fif, 320 x 694000 (694.0 s), ~1.66 GB, data loaded>"
      ]
     },
     "execution_count": 12,
     "metadata": {},
     "output_type": "execute_result"
    }
   ],
   "source": [
    "#%% Apply filter if required\n",
    "raw.filter(2, 40, picks=picks, filter_length='auto', n_jobs=1,\n",
    "          method='fir', iir_params=None, phase='zero', fir_window='hamming',\n",
    "          fir_design='firwin', skip_by_annotation=('edge', 'bad_acq_skip'),\n",
    "          pad='reflect_limited', verbose=True)"
   ]
  },
  {
   "cell_type": "code",
   "execution_count": 13,
   "metadata": {},
   "outputs": [
    {
     "name": "stdout",
     "output_type": "stream",
     "text": [
      "Effective window size : 2.048 (s)\n",
      "Effective window size : 2.048 (s)\n"
     ]
    }
   ],
   "source": [
    "if more_plots:\n",
    "    raw.plot_psd(fmin=0, fmax=45, proj=False, verbose=True)"
   ]
  },
  {
   "cell_type": "code",
   "execution_count": 14,
   "metadata": {
    "scrolled": true
   },
   "outputs": [
    {
     "name": "stdout",
     "output_type": "stream",
     "text": [
      "Not setting metadata\n",
      "Not setting metadata\n",
      "120 matching events found\n",
      "Applying baseline correction (mode: mean)\n",
      "Loading data for 120 events and 1501 original time points ...\n",
      "0 bad epochs dropped\n"
     ]
    }
   ],
   "source": [
    "epochs = mne.Epochs(raw, events, event_id=None, tmin=-0.5, tmax=1.0,\n",
    "                   baseline=(-0.5,0), picks=picks, preload=True,\n",
    "                   reject=None, flat=None, proj=False, decim=1,\n",
    "                   reject_tmin=None, reject_tmax=None, detrend=None,\n",
    "                   on_missing='error', reject_by_annotation=True,\n",
    "                   verbose=True)"
   ]
  },
  {
   "cell_type": "code",
   "execution_count": null,
   "metadata": {
    "scrolled": true
   },
   "outputs": [],
   "source": [
    "# eog_epochs = mne.preprocessing.create_eog_epochs(raw.copy().filter(1, None))\n",
    "# eog_epochs.average().plot_joint()\n",
    "# ecg_epochs = mne.preprocessing.create_ecg_epochs(raw)\n",
    "# ecg_epochs.average().plot_joint()"
   ]
  },
  {
   "cell_type": "code",
   "execution_count": 15,
   "metadata": {},
   "outputs": [
    {
     "name": "stdout",
     "output_type": "stream",
     "text": [
      "Removed trials: [ 16.  43.  80.  82. 105. 107.]\n",
      "\n",
      "Dropped 6 epochs: 16.0, 43.0, 80.0, 82.0, 105.0, 107.0\n"
     ]
    }
   ],
   "source": [
    "#% % Find trial variance > index outliers\n",
    "epochs.pick_types(meg=True)\n",
    "bad_trials = my_var_cut_fn(epochs, plow, phigh, to_plot=False)\n",
    "epochs.drop(bad_trials, reason='variance based rejection', verbose=True)\n",
    "bad_trials = []"
   ]
  },
  {
   "cell_type": "code",
   "execution_count": null,
   "metadata": {},
   "outputs": [],
   "source": [
    "# epochs.average().plot(spatial_colors=True, gfp=True, time_unit='ms')"
   ]
  },
  {
   "cell_type": "code",
   "execution_count": null,
   "metadata": {},
   "outputs": [],
   "source": [
    "# layouts = [mne.find_layout(raw.info, ch_type=ch) for ch in (\"mag\", \"grad\")]\n",
    "# if subject in ['sub-02']:\n",
    "#     print('Applying EOG projector for', subject)\n",
    "#     projs_eog, _ = mne.preprocessing.compute_proj_eog(raw, n_mag=3, n_grad=3)\n",
    "#     mne.viz.plot_projs_topomap(projs_eog, raw.info, layout=layouts);\n",
    "#     print('Applying ECG projector for', subject)\n",
    "#     projs_ecg, _ = mne.preprocessing.compute_proj_ecg(raw, n_mag=3, n_grad=3)\n",
    "#     mne.viz.plot_projs_topomap(projs_ecg, raw.info, layout=layouts);\n",
    "# else:\n",
    "#     print('Applying EOG projector for', subject)\n",
    "#     projs_eog, _ = mne.preprocessing.compute_proj_eog(raw, n_mag=3, n_grad=3)\n",
    "#     mne.viz.plot_projs_topomap(projs_eog, raw.info, layout=layouts);\n",
    "#     projs_ecg = []"
   ]
  },
  {
   "cell_type": "code",
   "execution_count": null,
   "metadata": {},
   "outputs": [],
   "source": [
    "# evoked = epochs.average()\n",
    "# evoked.del_proj() # delete previous proj\n",
    "# #% take first projector for each sensor type\n",
    "# if subject in ['sub-02']:\n",
    "#     evoked.add_proj(projs_eog[::3] + projs_ecg[::3])\n",
    "# else:\n",
    "#     evoked.add_proj(projs_eog[::3])\n",
    "# evoked.apply_proj() # apply\n",
    "# evoked.plot(spatial_colors=True, gfp=True, proj=False, time_unit='ms')"
   ]
  },
  {
   "cell_type": "code",
   "execution_count": null,
   "metadata": {},
   "outputs": [],
   "source": [
    "# epochs.del_proj()\n",
    "# epochs.add_proj(projs_eog[::3])"
   ]
  },
  {
   "cell_type": "code",
   "execution_count": 18,
   "metadata": {},
   "outputs": [],
   "source": [
    "evoked = epochs.average()\n",
    "evoked.plot(spatial_colors=True, gfp=True, proj=False, time_unit='ms')\n",
    "plt.savefig(op.join(res_dir, 'evoked_' + subject + '.pdf'))"
   ]
  },
  {
   "cell_type": "code",
   "execution_count": 19,
   "metadata": {},
   "outputs": [],
   "source": [
    "epochs_fname = op.join(bids_path, bids_fname.replace('_meg.fif', '-epo.fif'))\n",
    "epochs.save(epochs_fname, overwrite=True)"
   ]
  },
  {
   "cell_type": "code",
   "execution_count": null,
   "metadata": {
    "scrolled": true
   },
   "outputs": [],
   "source": [
    "# epochs.apply_proj()"
   ]
  },
  {
   "cell_type": "code",
   "execution_count": null,
   "metadata": {},
   "outputs": [],
   "source": [
    "# evoked = epochs.average()"
   ]
  },
  {
   "cell_type": "code",
   "execution_count": 20,
   "metadata": {},
   "outputs": [],
   "source": [
    "epochs.plot_image(picks='MEG2343', sigma=1);\n",
    "plt.savefig(op.join(res_dir, 'epochs_MEG2343_' + subject + '.pdf'))"
   ]
  },
  {
   "cell_type": "code",
   "execution_count": 22,
   "metadata": {},
   "outputs": [
    {
     "name": "stdout",
     "output_type": "stream",
     "text": [
      "No projector specified for this dataset. Please consider the method self.add_proj.\n"
     ]
    }
   ],
   "source": [
    "times = [0.2, 0.4] # Highly data dependent\n",
    "evoked.plot_joint(times=times, picks='mag');\n",
    "plt.savefig(op.join(res_dir, 'evoked_joint_plot' + subject + '.pdf'))"
   ]
  },
  {
   "cell_type": "code",
   "execution_count": 26,
   "metadata": {},
   "outputs": [],
   "source": [
    "evoked.plot_topomap(times=np.linspace(0.1, 0.4, 7), ch_type='mag');\n",
    "plt.savefig(op.join(res_dir, 'evoked_topomap_mag_' + subject + '.pdf'))"
   ]
  },
  {
   "cell_type": "code",
   "execution_count": 27,
   "metadata": {},
   "outputs": [],
   "source": [
    "epochs.plot_psd_topomap(ch_type='mag', normalize=True, cmap='viridis');\n",
    "plt.savefig(op.join(res_dir, 'psd_topomap_mag_' + subject + '.pdf'))\n",
    "\n",
    "epochs.plot_psd_topomap(ch_type='grad', normalize=True, cmap='viridis');\n",
    "plt.savefig(op.join(res_dir, 'psd_topomap_grad_' + subject + '.pdf'))"
   ]
  },
  {
   "cell_type": "code",
   "execution_count": null,
   "metadata": {},
   "outputs": [],
   "source": [
    "plt.close('all')"
   ]
  },
  {
   "cell_type": "code",
   "execution_count": 28,
   "metadata": {},
   "outputs": [],
   "source": [
    "freqs = np.logspace(*np.log10([2, 30]), num=20)\n",
    "n_cycles = freqs / 2.\n",
    "power, itc = tfr_morlet(epochs, freqs=freqs, n_cycles=n_cycles, use_fft=True,\n",
    "                       return_itc=True, decim=3, n_jobs=1)\n",
    "\n",
    "power.crop(-0.1, 0.8)\n",
    "itc.crop(-0.1, 0.8)\n",
    "baseline_mode = 'logratio'\n",
    "baseline = (None, 0)"
   ]
  },
  {
   "cell_type": "code",
   "execution_count": null,
   "metadata": {},
   "outputs": [],
   "source": [
    "# for inx, name in enumerate(epochs.ch_names):\n",
    "#     if name == 'MEG2343':\n",
    "#         print(\"MEG 2343 is channel #\", inx)"
   ]
  },
  {
   "cell_type": "code",
   "execution_count": 29,
   "metadata": {},
   "outputs": [],
   "source": [
    "power.plot([267], baseline=baseline, mode=baseline_mode);\n",
    "plt.savefig(op.join(res_dir, 'power_MEG2343_' + subject + '.pdf'))"
   ]
  },
  {
   "cell_type": "code",
   "execution_count": 30,
   "metadata": {},
   "outputs": [
    {
     "name": "stderr",
     "output_type": "stream",
     "text": [
      "/home/anakin/anaconda3/envs/mne/lib/python3.8/site-packages/matplotlib/ticker.py:411: UserWarning: Warning: converting a masked element to nan.\n",
      "  return self.fmt % x\n"
     ]
    }
   ],
   "source": [
    "fig, axis = plt.subplots(1, 3, figsize=(7, 4))\n",
    "power.plot_topomap(ch_type='grad', tmin=0., tmax=0.6, fmin=4, fmax=7,\n",
    "                  baseline=baseline, mode=baseline_mode, axes=axis[0],\n",
    "                  title='Theta', show=False, contours=1)\n",
    "power.plot_topomap(ch_type='grad', tmin=0., tmax=0.6, fmin=8, fmax=12,\n",
    "                  baseline=baseline, mode=baseline_mode, axes=axis[1],\n",
    "                  title='Alpha', show=False, contours=1)\n",
    "power.plot_topomap(ch_type='grad', tmin=0., tmax=0.6, fmin=15, fmax=30,\n",
    "                  baseline=baseline, mode=baseline_mode, axes=axis[2],\n",
    "                  title='Beta', show=False, contours=1)\n",
    "mne.viz.tight_layout()\n",
    "plt.show()\n",
    "\n",
    "plt.savefig(op.join(res_dir, 'power_topomap_t=0-0p6_' + subject + '.pdf'))"
   ]
  },
  {
   "cell_type": "code",
   "execution_count": 31,
   "metadata": {},
   "outputs": [],
   "source": [
    "itc.plot([267], baseline=baseline, mode=baseline_mode);\n",
    "plt.savefig(op.join(res_dir, 'itc_MEG2343_' + subject + '.pdf'))"
   ]
  },
  {
   "cell_type": "code",
   "execution_count": 32,
   "metadata": {},
   "outputs": [],
   "source": [
    "itc.plot_topomap(ch_type='mag', tmin=0.1, tmax=0.3, fmin=3.5, fmax=7.,\n",
    "                baseline=baseline, mode='mean', size=6)\n",
    "mne.viz.tight_layout()\n",
    "plt.savefig(op.join(res_dir, 'itc_topomap_' + subject + '.pdf'))"
   ]
  },
  {
   "cell_type": "code",
   "execution_count": null,
   "metadata": {},
   "outputs": [],
   "source": [
    "plt.close('all')"
   ]
  },
  {
   "cell_type": "code",
   "execution_count": 34,
   "metadata": {},
   "outputs": [
    {
     "ename": "FileNotFoundError",
     "evalue": "MRI file '/home/anakin/data/pic-name-data-bids/MRI/sub-01/mri/T1.mgz' not found",
     "output_type": "error",
     "traceback": [
      "\u001b[0;31m---------------------------------------------------------------------------\u001b[0m",
      "\u001b[0;31mFileNotFoundError\u001b[0m                         Traceback (most recent call last)",
      "\u001b[0;32m<ipython-input-34-b092bed8399c>\u001b[0m in \u001b[0;36m<module>\u001b[0;34m\u001b[0m\n\u001b[0;32m----> 1\u001b[0;31m src_vol = mne.setup_volume_source_space(subject='fsaverage', pos=5.0,\n\u001b[0m\u001b[1;32m      2\u001b[0m             \u001b[0mmri\u001b[0m\u001b[0;34m=\u001b[0m\u001b[0mmrifile\u001b[0m\u001b[0;34m,\u001b[0m \u001b[0mbem\u001b[0m\u001b[0;34m=\u001b[0m\u001b[0;32mNone\u001b[0m\u001b[0;34m,\u001b[0m \u001b[0msurface\u001b[0m\u001b[0;34m=\u001b[0m\u001b[0msurffile\u001b[0m\u001b[0;34m,\u001b[0m \u001b[0mmindist\u001b[0m\u001b[0;34m=\u001b[0m\u001b[0;36m2.5\u001b[0m\u001b[0;34m,\u001b[0m\u001b[0;34m\u001b[0m\u001b[0;34m\u001b[0m\u001b[0m\n\u001b[1;32m      3\u001b[0m             \u001b[0mexclude\u001b[0m\u001b[0;34m=\u001b[0m\u001b[0;36m10\u001b[0m\u001b[0;34m,\u001b[0m \u001b[0msubjects_dir\u001b[0m\u001b[0;34m=\u001b[0m\u001b[0msubjects_dir\u001b[0m\u001b[0;34m,\u001b[0m \u001b[0mvolume_label\u001b[0m\u001b[0;34m=\u001b[0m\u001b[0;32mNone\u001b[0m\u001b[0;34m,\u001b[0m\u001b[0;34m\u001b[0m\u001b[0;34m\u001b[0m\u001b[0m\n\u001b[1;32m      4\u001b[0m             add_interpolator=None, verbose=True)\n",
      "\u001b[0;32m<decorator-gen-117>\u001b[0m in \u001b[0;36msetup_volume_source_space\u001b[0;34m(subject, pos, mri, sphere, bem, surface, mindist, exclude, subjects_dir, volume_label, add_interpolator, sphere_units, single_volume, verbose)\u001b[0m\n",
      "\u001b[0;32m~/anaconda3/envs/mne/lib/python3.8/site-packages/mne/source_space.py\u001b[0m in \u001b[0;36msetup_volume_source_space\u001b[0;34m(subject, pos, mri, sphere, bem, surface, mindist, exclude, subjects_dir, volume_label, add_interpolator, sphere_units, single_volume, verbose)\u001b[0m\n\u001b[1;32m   1737\u001b[0m \u001b[0;34m\u001b[0m\u001b[0m\n\u001b[1;32m   1738\u001b[0m     \u001b[0;32mif\u001b[0m \u001b[0mmri\u001b[0m \u001b[0;32mis\u001b[0m \u001b[0;32mnot\u001b[0m \u001b[0;32mNone\u001b[0m\u001b[0;34m:\u001b[0m\u001b[0;34m\u001b[0m\u001b[0;34m\u001b[0m\u001b[0m\n\u001b[0;32m-> 1739\u001b[0;31m         \u001b[0mmri\u001b[0m \u001b[0;34m=\u001b[0m \u001b[0m_check_mri\u001b[0m\u001b[0;34m(\u001b[0m\u001b[0mmri\u001b[0m\u001b[0;34m,\u001b[0m \u001b[0msubject\u001b[0m\u001b[0;34m,\u001b[0m \u001b[0msubjects_dir\u001b[0m\u001b[0;34m)\u001b[0m\u001b[0;34m\u001b[0m\u001b[0;34m\u001b[0m\u001b[0m\n\u001b[0m\u001b[1;32m   1740\u001b[0m         \u001b[0;32mif\u001b[0m \u001b[0misinstance\u001b[0m\u001b[0;34m(\u001b[0m\u001b[0mpos\u001b[0m\u001b[0;34m,\u001b[0m \u001b[0mdict\u001b[0m\u001b[0;34m)\u001b[0m\u001b[0;34m:\u001b[0m\u001b[0;34m\u001b[0m\u001b[0;34m\u001b[0m\u001b[0m\n\u001b[1;32m   1741\u001b[0m             raise ValueError('Cannot create interpolation matrix for '\n",
      "\u001b[0;32m~/anaconda3/envs/mne/lib/python3.8/site-packages/mne/source_space.py\u001b[0m in \u001b[0;36m_check_mri\u001b[0;34m(mri, subject, subjects_dir)\u001b[0m\n\u001b[1;32m   1572\u001b[0m         \u001b[0mmri\u001b[0m \u001b[0;34m=\u001b[0m \u001b[0mop\u001b[0m\u001b[0;34m.\u001b[0m\u001b[0mjoin\u001b[0m\u001b[0;34m(\u001b[0m\u001b[0msubjects_dir\u001b[0m\u001b[0;34m,\u001b[0m \u001b[0msubject\u001b[0m\u001b[0;34m,\u001b[0m \u001b[0;34m'mri'\u001b[0m\u001b[0;34m,\u001b[0m \u001b[0mmri\u001b[0m\u001b[0;34m)\u001b[0m\u001b[0;34m\u001b[0m\u001b[0;34m\u001b[0m\u001b[0m\n\u001b[1;32m   1573\u001b[0m         \u001b[0;32mif\u001b[0m \u001b[0;32mnot\u001b[0m \u001b[0mop\u001b[0m\u001b[0;34m.\u001b[0m\u001b[0misfile\u001b[0m\u001b[0;34m(\u001b[0m\u001b[0mmri\u001b[0m\u001b[0;34m)\u001b[0m\u001b[0;34m:\u001b[0m\u001b[0;34m\u001b[0m\u001b[0;34m\u001b[0m\u001b[0m\n\u001b[0;32m-> 1574\u001b[0;31m             \u001b[0;32mraise\u001b[0m \u001b[0mFileNotFoundError\u001b[0m\u001b[0;34m(\u001b[0m\u001b[0;34m'MRI file %r not found'\u001b[0m \u001b[0;34m%\u001b[0m \u001b[0;34m(\u001b[0m\u001b[0mmri\u001b[0m\u001b[0;34m,\u001b[0m\u001b[0;34m)\u001b[0m\u001b[0;34m)\u001b[0m\u001b[0;34m\u001b[0m\u001b[0;34m\u001b[0m\u001b[0m\n\u001b[0m\u001b[1;32m   1575\u001b[0m     \u001b[0;32mreturn\u001b[0m \u001b[0mmri\u001b[0m\u001b[0;34m\u001b[0m\u001b[0;34m\u001b[0m\u001b[0m\n\u001b[1;32m   1576\u001b[0m \u001b[0;34m\u001b[0m\u001b[0m\n",
      "\u001b[0;31mFileNotFoundError\u001b[0m: MRI file '/home/anakin/data/pic-name-data-bids/MRI/sub-01/mri/T1.mgz' not found"
     ]
    }
   ],
   "source": [
    "src_vol = mne.setup_volume_source_space(subject='fsaverage', pos=5.0,\n",
    "            mri=mrifile, bem=None, surface=surffile, mindist=2.5,\n",
    "            exclude=10, subjects_dir=subjects_dir, volume_label=None,\n",
    "            add_interpolator=None, verbose=True)"
   ]
  },
  {
   "cell_type": "code",
   "execution_count": null,
   "metadata": {},
   "outputs": [],
   "source": [
    "info = mne.io.read_info(raw_fname)\n",
    "# mne.viz.plot_alignment(info, trans_fname, subject=subject,\n",
    "#                       src=src_vol, subjects_dir=subjects_dir, dig=True,\n",
    "#                       surfaces=['head', 'white'], coord_frame='meg', meg=False)"
   ]
  },
  {
   "cell_type": "code",
   "execution_count": null,
   "metadata": {},
   "outputs": [],
   "source": [
    "model = mne.make_bem_model(subject='fsaverage', ico=4, conductivity=(0.33,),\n",
    "            subjects_dir=subjects_dir, verbose=True)"
   ]
  },
  {
   "cell_type": "code",
   "execution_count": null,
   "metadata": {},
   "outputs": [],
   "source": [
    "bem = mne.make_bem_solution(model)"
   ]
  },
  {
   "cell_type": "code",
   "execution_count": null,
   "metadata": {},
   "outputs": [],
   "source": [
    "bem_fname = op.join(bids_path, subject + '-grid-bem.fif')\n",
    "mne.bem.write_bem_solution(bem_fname, bem, overwrite=True)"
   ]
  },
  {
   "cell_type": "code",
   "execution_count": null,
   "metadata": {},
   "outputs": [],
   "source": [
    "fwd = mne.make_forward_solution(evoked.info, trans=trans_fname, src=src_vol,\n",
    "        bem=bem, meg=True, eeg=False, mindist=2.5, n_jobs=1)\n",
    "print(\"Leadfield size : %d sensors x %d dipoles\" % fwd['sol']['data'].shape)"
   ]
  },
  {
   "cell_type": "code",
   "execution_count": null,
   "metadata": {},
   "outputs": [],
   "source": [
    "# fwd_fname = op.join(bids_path, subject + '-vol-meg-fwd.fif')\n",
    "mne.write_forward_solution(fwd_fname, fwd, overwrite=True)"
   ]
  },
  {
   "cell_type": "code",
   "execution_count": null,
   "metadata": {},
   "outputs": [],
   "source": [
    "# Compute covariance\n",
    "noise_cov = mne.compute_covariance(epochs,\n",
    "                tmin=par['ctrlwin'][0], tmax=par['ctrlwin'][1],\n",
    "                method='empirical', rank='info', verbose=True)\n",
    "\n",
    "data_cov = mne.compute_covariance(epochs,\n",
    "                tmin=par['actiwin'][0], tmax=par['actiwin'][1],\n",
    "                method='empirical', rank='info', verbose=True)"
   ]
  },
  {
   "cell_type": "code",
   "execution_count": null,
   "metadata": {},
   "outputs": [],
   "source": [
    "# mne.viz.plot_cov(noise_cov, epochs.info)"
   ]
  },
  {
   "cell_type": "code",
   "execution_count": null,
   "metadata": {},
   "outputs": [],
   "source": [
    "evoked.plot_white(noise_cov);\n",
    "plt.savefig(op.join(res_dir, 'evoked_plot_white_' + subject + '.pdf'))"
   ]
  },
  {
   "cell_type": "code",
   "execution_count": null,
   "metadata": {},
   "outputs": [],
   "source": [
    "# Compute inverse\n",
    "inverse_operator = mne.minimum_norm.make_inverse_operator(info, \n",
    "    fwd, noise_cov, rank=None, loose=1, depth=0.199, verbose=True)"
   ]
  },
  {
   "cell_type": "code",
   "execution_count": null,
   "metadata": {},
   "outputs": [],
   "source": [
    "# Compute SNR\n",
    "snr, _ = mne.minimum_norm.estimate_snr(evoked, inverse_operator, verbose=True)\n",
    "nt_snr = np.argmax(snr)\n",
    "SNR = snr[nt_snr]\n",
    "print('\\nMax SNR at %0.3f s : %0.3f' % (evoked.times[nt_snr], SNR))"
   ]
  },
  {
   "cell_type": "code",
   "execution_count": null,
   "metadata": {},
   "outputs": [],
   "source": [
    "# Compute filter and output\n",
    "filters = mne.beamformer.make_lcmv(info, fwd, data_cov, reg=0.05,\n",
    "            noise_cov=noise_cov, pick_ori='max-power', rank=None,\n",
    "            weight_norm='nai', reduce_rank=True, verbose=True)\n",
    "\n",
    "stc = mne.beamformer.apply_lcmv(evoked, filters, max_ori_out='signed', verbose=True)"
   ]
  },
  {
   "cell_type": "code",
   "execution_count": null,
   "metadata": {},
   "outputs": [],
   "source": [
    "stc_fname = op.join(res_dir, 'lcmv_' + subject)\n",
    "stc.save(stc_fname)"
   ]
  },
  {
   "cell_type": "code",
   "execution_count": null,
   "metadata": {},
   "outputs": [],
   "source": [
    "stc = np.abs(stc)"
   ]
  },
  {
   "cell_type": "code",
   "execution_count": null,
   "metadata": {},
   "outputs": [],
   "source": [
    "_, t_peak = stc.get_peak()\n",
    "print('Source peaked at = %0.3f' % t_peak)\n",
    "nt_src_peak = int(t_peak//stc.tstep - stc.times[0]//stc.tstep)"
   ]
  },
  {
   "cell_type": "code",
   "execution_count": null,
   "metadata": {},
   "outputs": [],
   "source": [
    "img = stc.as_volume(fwd['src'], dest='mri', mri_resolution=False, format='nifti1')"
   ]
  },
  {
   "cell_type": "code",
   "execution_count": null,
   "metadata": {},
   "outputs": [],
   "source": [
    "plot_stat_map(index_img(img, nt_src_peak), mrifile, threshold=stc.data.max()*0.70)\n",
    "plt.savefig(op.join(res_dir,\n",
    "        'stat_map_' + 'time=%0.3fs_'%(stc.times[nt_src_peak]) + subject + '.pdf'))"
   ]
  },
  {
   "cell_type": "code",
   "execution_count": null,
   "metadata": {},
   "outputs": [],
   "source": [
    "plot_stat_map(index_img(img, nt_snr), mrifile, threshold=stc.data.max()*0.30)\n",
    "plt.savefig(op.join(res_dir,\n",
    "        'stat_map_' + 'time=%0.3fs_'%(stc.times[nt_snr]) + subject + '.pdf'))"
   ]
  },
  {
   "cell_type": "code",
   "execution_count": null,
   "metadata": {},
   "outputs": [],
   "source": [
    "plt.close('all')"
   ]
  },
  {
   "cell_type": "code",
   "execution_count": null,
   "metadata": {},
   "outputs": [],
   "source": []
  }
 ],
 "metadata": {
  "kernelspec": {
   "display_name": "Python 3",
   "language": "python",
   "name": "python3"
  },
  "language_info": {
   "codemirror_mode": {
    "name": "ipython",
    "version": 3
   },
   "file_extension": ".py",
   "mimetype": "text/x-python",
   "name": "python",
   "nbconvert_exporter": "python",
   "pygments_lexer": "ipython3",
   "version": "3.8.6"
  }
 },
 "nbformat": 4,
 "nbformat_minor": 4
}

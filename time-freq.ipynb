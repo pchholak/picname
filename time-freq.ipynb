{
 "cells": [
  {
   "cell_type": "code",
   "execution_count": 1,
   "metadata": {},
   "outputs": [],
   "source": [
    "%matplotlib qt\n",
    "import os\n",
    "import numpy as np\n",
    "import matplotlib.pyplot as plt\n",
    "import mne\n",
    "from mne.time_frequency import tfr_morlet, psd_multitaper, psd_welch\n",
    "from mne_bids import make_bids_basename"
   ]
  },
  {
   "cell_type": "code",
   "execution_count": 2,
   "metadata": {},
   "outputs": [],
   "source": [
    "mne.set_log_level('WARNING')"
   ]
  },
  {
   "cell_type": "code",
   "execution_count": 3,
   "metadata": {},
   "outputs": [],
   "source": [
    "sSub = '08'\n",
    "session, task, run = '01', 'picturenaming', '01'\n",
    "bids_basename = make_bids_basename(subject=sSub, session=session,\n",
    "                                  task=task, run=run)\n",
    "bids_fname = bids_basename + '_meg.fif'\n",
    "\n",
    "data_dir = '/Users/chholak/data/pic-name-data-bids/'\n",
    "res_dir = '/Users/chholak/research/results/pic_name/'\n",
    "data_path = data_dir + 'MEG/'\n",
    "\n",
    "bids_path = data_path + 'sub-' + sSub + '/ses-' + session + '/meg/'\n",
    "epochs_fname = bids_path + bids_fname.replace('_meg.fif', '-epo.fif')"
   ]
  },
  {
   "cell_type": "code",
   "execution_count": 8,
   "metadata": {},
   "outputs": [],
   "source": [
    "mne.read_epochs?"
   ]
  },
  {
   "cell_type": "code",
   "execution_count": 9,
   "metadata": {},
   "outputs": [
    {
     "data": {
      "text/plain": [
       "<EpochsFIF  |   98 events (all good), -0.5 - 1 sec, baseline [-0.5, 0], ~351.3 MB, data loaded,\n",
       " 'picture': 98>"
      ]
     },
     "execution_count": 9,
     "metadata": {},
     "output_type": "execute_result"
    }
   ],
   "source": [
    "epochs = mne.read_epochs(epochs_fname, proj=True)\n",
    "epochs"
   ]
  },
  {
   "cell_type": "code",
   "execution_count": 10,
   "metadata": {},
   "outputs": [
    {
     "data": {
      "text/plain": [
       "<EpochsFIF  |   98 events (all good), -0.5 - 1 sec, baseline [-0.5, 0], ~351.3 MB, data loaded,\n",
       " 'picture': 98>"
      ]
     },
     "execution_count": 10,
     "metadata": {},
     "output_type": "execute_result"
    }
   ],
   "source": [
    "epochs.apply_proj()"
   ]
  },
  {
   "cell_type": "code",
   "execution_count": 6,
   "metadata": {},
   "outputs": [],
   "source": [
    "epochs.plot_psd(fmin=2., fmax=40., average=False, bandwidth=2);"
   ]
  },
  {
   "cell_type": "code",
   "execution_count": 11,
   "metadata": {},
   "outputs": [],
   "source": [
    "epochs.plot_psd_topomap(ch_type='mag', normalize=True, cmap='viridis');\n",
    "# plt.savefig(res_dir + 'psd_topomap_mag_' + 'sub-' + sSub + '.pdf')"
   ]
  },
  {
   "cell_type": "code",
   "execution_count": null,
   "metadata": {},
   "outputs": [],
   "source": [
    "epochs.plot_psd_topomap(ch_type='grad', normalize=True, cmap='viridis');\n",
    "# plt.savefig(res_dir + 'psd_topomap_grad_' + 'sub-' + sSub + '.pdf')"
   ]
  },
  {
   "cell_type": "code",
   "execution_count": null,
   "metadata": {},
   "outputs": [],
   "source": [
    "psds, freqs = psd_multitaper(epochs, fmin=2, fmax=40, n_jobs=1, bandwidth=2)\n",
    "psds.shape"
   ]
  },
  {
   "cell_type": "code",
   "execution_count": null,
   "metadata": {},
   "outputs": [],
   "source": [
    "psds = np.mean(10. * np.log10(psds), axis=0)\n",
    "picks = mne.pick_types(epochs.info, meg='grad', eeg=False)\n",
    "\n",
    "f, ax = plt.subplots()\n",
    "ax.plot(freqs, psds[picks].T, color='k', alpha=0.3)\n",
    "ax.set(title='Multitaper PSD', xlabel='Frequency (Hz)',\n",
    "      ylabel='Power Spectral Density (dB)')\n",
    "plt.show()"
   ]
  },
  {
   "cell_type": "code",
   "execution_count": null,
   "metadata": {},
   "outputs": [],
   "source": [
    "freqs = np.logspace(*np.log10([2, 30]), num=20)\n",
    "n_cycles = freqs / 2.\n",
    "power, itc = tfr_morlet(epochs, freqs=freqs, n_cycles=n_cycles, use_fft=True,\n",
    "                       return_itc=True, decim=3, n_jobs=1)"
   ]
  },
  {
   "cell_type": "code",
   "execution_count": null,
   "metadata": {},
   "outputs": [],
   "source": [
    "power.crop(-0.1, 0.8)"
   ]
  },
  {
   "cell_type": "code",
   "execution_count": null,
   "metadata": {},
   "outputs": [],
   "source": [
    "itc.crop(-0.1, 0.8)"
   ]
  },
  {
   "cell_type": "code",
   "execution_count": null,
   "metadata": {},
   "outputs": [],
   "source": [
    "baseline_mode = 'logratio'\n",
    "baseline = (None, 0)\n",
    "power.plot_topo(baseline=baseline, mode=baseline_mode, title='Average power');"
   ]
  },
  {
   "cell_type": "code",
   "execution_count": null,
   "metadata": {},
   "outputs": [],
   "source": [
    "for inx, name in enumerate(epochs.ch_names):\n",
    "    if name == 'MEG2343':\n",
    "        print(\"MEG 2343 is channel #\", inx)"
   ]
  },
  {
   "cell_type": "code",
   "execution_count": null,
   "metadata": {},
   "outputs": [],
   "source": [
    "power.plot([267], baseline=baseline, mode=baseline_mode);\n",
    "plt.savefig(res_dir + 'power_MEG2343_' + 'sub-' + sSub + '.pdf')"
   ]
  },
  {
   "cell_type": "code",
   "execution_count": null,
   "metadata": {},
   "outputs": [],
   "source": [
    "fig, axis = plt.subplots(1, 3, figsize=(7, 4))\n",
    "power.plot_topomap(ch_type='grad', tmin=0., tmax=0.8, fmin=4, fmax=7,\n",
    "                  baseline=baseline, mode=baseline_mode, axes=axis[0],\n",
    "                  title='Theta', show=False, contours=1)\n",
    "power.plot_topomap(ch_type='grad', tmin=0., tmax=0.8, fmin=8, fmax=12,\n",
    "                  baseline=baseline, mode=baseline_mode, axes=axis[1],\n",
    "                  title='Alpha', show=False, contours=1)\n",
    "power.plot_topomap(ch_type='grad', tmin=0., tmax=0.8, fmin=15, fmax=30,\n",
    "                  baseline=baseline, mode=baseline_mode, axes=axis[2],\n",
    "                  title='Beta', show=False, contours=1)\n",
    "mne.viz.tight_layout()\n",
    "plt.show()\n",
    "\n",
    "plt.savefig(res_dir + 'power_topomap_t=0-0p8_' + 'sub-' + sSub + '.pdf')"
   ]
  },
  {
   "cell_type": "code",
   "execution_count": null,
   "metadata": {},
   "outputs": [],
   "source": [
    "# power.plot_joint(baseline=baseline, mode='mean', tmin=None, tmax=None,\n",
    "#                 timefreqs=[(0., 2.), (0.8, 11.)])"
   ]
  },
  {
   "cell_type": "code",
   "execution_count": null,
   "metadata": {},
   "outputs": [],
   "source": [
    "itc.plot_topo(title='Inter-Trial coherence', vmin=0., vmax=1., cmap='Reds');"
   ]
  },
  {
   "cell_type": "code",
   "execution_count": null,
   "metadata": {},
   "outputs": [],
   "source": [
    "itc.plot([267], baseline=baseline, mode=baseline_mode);\n",
    "plt.savefig(res_dir + 'itc_MEG2343_' + 'sub-' + sSub + '.pdf')"
   ]
  },
  {
   "cell_type": "code",
   "execution_count": null,
   "metadata": {},
   "outputs": [],
   "source": [
    "itc.plot_topomap(ch_type='mag', tmin=0.1, tmax=0.3, fmin=3.5, fmax=7.,\n",
    "                baseline=baseline, mode='mean')\n",
    "# mne.viz.tight_layout()\n",
    "# plt.savefig(res_dir + 'itc_topomap_' + 'sub-' + sSub + '.pdf')"
   ]
  },
  {
   "cell_type": "code",
   "execution_count": null,
   "metadata": {},
   "outputs": [],
   "source": []
  }
 ],
 "metadata": {
  "kernelspec": {
   "display_name": "Python 3",
   "language": "python",
   "name": "python3"
  },
  "language_info": {
   "codemirror_mode": {
    "name": "ipython",
    "version": 3
   },
   "file_extension": ".py",
   "mimetype": "text/x-python",
   "name": "python",
   "nbconvert_exporter": "python",
   "pygments_lexer": "ipython3",
   "version": "3.7.6"
  }
 },
 "nbformat": 4,
 "nbformat_minor": 4
}

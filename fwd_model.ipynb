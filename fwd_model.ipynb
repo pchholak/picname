{
 "cells": [
  {
   "cell_type": "code",
   "execution_count": 1,
   "metadata": {},
   "outputs": [],
   "source": [
    "%matplotlib qt\n",
    "import matplotlib.pyplot as plt\n",
    "import os\n",
    "import mne\n",
    "from mne_bids import make_bids_basename\n",
    "from IPython.display import Image\n",
    "from mayavi import mlab\n",
    "\n",
    "from nilearn import plotting\n",
    "\n",
    "mne.set_log_level('WARNING')"
   ]
  },
  {
   "cell_type": "code",
   "execution_count": 2,
   "metadata": {},
   "outputs": [],
   "source": [
    "sSub, session, task, run = '08', '01', 'picturenaming', '01'\n",
    "bids_basename = make_bids_basename(subject=sSub, session=session,\n",
    "                                  task=task, run=run)\n",
    "data_dir = '/Users/chholak/data/pic-name-data-bids/'\n",
    "data_path = data_dir + 'MEG/'\n",
    "bids_path = data_path + 'sub-' + sSub + '/ses-' + session + '/meg/'\n",
    "\n",
    "raw_fname = bids_path + bids_basename + '_meg.fif'\n",
    "\n",
    "subjects_dir = os.path.join(data_dir, 'MRI/')\n",
    "subject = 'sub-' + sSub"
   ]
  },
  {
   "cell_type": "code",
   "execution_count": 3,
   "metadata": {},
   "outputs": [],
   "source": [
    "t1_fname = os.path.join(data_dir, 'MRI/sub-' + sSub + '/mri/T1.mgz')"
   ]
  },
  {
   "cell_type": "code",
   "execution_count": null,
   "metadata": {},
   "outputs": [],
   "source": [
    "plotting.plot_anat(t1_fname);\n",
    "plt.show()"
   ]
  },
  {
   "cell_type": "code",
   "execution_count": null,
   "metadata": {},
   "outputs": [],
   "source": [
    "mne.viz.plot_bem(subject=subject, subjects_dir=subjects_dir,\n",
    "                orientation='coronal')"
   ]
  },
  {
   "cell_type": "code",
   "execution_count": null,
   "metadata": {},
   "outputs": [],
   "source": [
    "# mne.gui.coregistration(subject=subject, subjects_dir=subjects_dir, inst=raw_fname);"
   ]
  },
  {
   "cell_type": "code",
   "execution_count": 4,
   "metadata": {},
   "outputs": [
    {
     "name": "stdout",
     "output_type": "stream",
     "text": [
      "Using outer_skin.surf for head surface.\n",
      "Getting helmet for system 306m\n",
      "Using mayavi 3d backend.\n",
      "\n"
     ]
    }
   ],
   "source": [
    "trans_fname = os.path.join(bids_path, subject + '-trans.fif')\n",
    "info = mne.io.read_info(raw_fname)\n",
    "fig = mne.viz.plot_alignment(info, trans_fname, subject=subject, dig=True,\n",
    "                            subjects_dir=subjects_dir, verbose=True)"
   ]
  },
  {
   "cell_type": "code",
   "execution_count": null,
   "metadata": {},
   "outputs": [],
   "source": [
    "mlab.close('all')"
   ]
  },
  {
   "cell_type": "code",
   "execution_count": 5,
   "metadata": {},
   "outputs": [],
   "source": [
    "src = mne.setup_source_space(subject, spacing='oct6', subjects_dir=subjects_dir,\n",
    "                            add_dist=False)"
   ]
  },
  {
   "cell_type": "code",
   "execution_count": 7,
   "metadata": {},
   "outputs": [
    {
     "name": "stdout",
     "output_type": "stream",
     "text": [
      "Using outer_skin.surf for head surface.\n"
     ]
    }
   ],
   "source": [
    "# fig = mne.viz.plot_alignment(info, trans_fname, subject=subject, src=src,\n",
    "#                             subjects_dir=subjects_dir, verbose=True, meg=False,\n",
    "#                             eeg=False);"
   ]
  },
  {
   "cell_type": "code",
   "execution_count": 8,
   "metadata": {},
   "outputs": [
    {
     "data": {
      "text/plain": [
       "<mayavi.core.scene.Scene at 0x7ff67d37b6b0>"
      ]
     },
     "execution_count": 8,
     "metadata": {},
     "output_type": "execute_result"
    }
   ],
   "source": [
    "mne.viz.plot_alignment(info, trans_fname, subject=subject,\n",
    "                      src=src, subjects_dir=subjects_dir, dig=True,\n",
    "                      surfaces=['head', 'white'], coord_frame='meg', meg=False)"
   ]
  },
  {
   "cell_type": "code",
   "execution_count": null,
   "metadata": {},
   "outputs": [],
   "source": [
    "mlab.close()"
   ]
  },
  {
   "cell_type": "code",
   "execution_count": 9,
   "metadata": {},
   "outputs": [],
   "source": [
    "conductivity = (0.3,)\n",
    "model = mne.make_bem_model(subject=subject, ico=4, conductivity=conductivity,\n",
    "                          subjects_dir=subjects_dir)\n",
    "bem = mne.make_bem_solution(model)"
   ]
  },
  {
   "cell_type": "code",
   "execution_count": 11,
   "metadata": {},
   "outputs": [],
   "source": [
    "bem_fname = os.path.join(bids_path, subject + '-bem.fif')\n",
    "mne.bem.write_bem_solution(bem_fname, bem)"
   ]
  },
  {
   "cell_type": "code",
   "execution_count": 12,
   "metadata": {},
   "outputs": [],
   "source": [
    "fwd = mne.make_forward_solution(raw_fname, trans=trans_fname, src=src,\n",
    "                               bem=bem, meg=True, eeg=False, mindist=5.0, n_jobs=1)"
   ]
  },
  {
   "cell_type": "code",
   "execution_count": 13,
   "metadata": {},
   "outputs": [],
   "source": [
    "fwd_fname = os.path.join(bids_path, subject + '-meg-fwd.fif')\n",
    "mne.write_forward_solution(fwd_fname, fwd, overwrite=True)"
   ]
  },
  {
   "cell_type": "code",
   "execution_count": 14,
   "metadata": {},
   "outputs": [
    {
     "data": {
      "text/plain": [
       "<Forward | MEG channels: 306 | EEG channels: 0 | Source space: Surface with 8196 vertices | Source orientation: Free>"
      ]
     },
     "execution_count": 14,
     "metadata": {},
     "output_type": "execute_result"
    }
   ],
   "source": [
    "fwd = mne.read_forward_solution(fwd_fname)\n",
    "fwd"
   ]
  },
  {
   "cell_type": "code",
   "execution_count": 15,
   "metadata": {},
   "outputs": [
    {
     "name": "stdout",
     "output_type": "stream",
     "text": [
      "Leadfield size : 306 sensors x 24588 dipoles\n"
     ]
    }
   ],
   "source": [
    "fwd = mne.convert_forward_solution(fwd, surf_ori=True)\n",
    "leadfield = fwd['sol']['data']\n",
    "print(\"Leadfield size : %d sensors x %d dipoles\" % leadfield.shape)"
   ]
  },
  {
   "cell_type": "code",
   "execution_count": 16,
   "metadata": {},
   "outputs": [],
   "source": [
    "# sens_map = mne.sensitivity_map(fwd, ch_type='grad', mode='fixed')"
   ]
  },
  {
   "cell_type": "code",
   "execution_count": 17,
   "metadata": {},
   "outputs": [
    {
     "data": {
      "text/plain": [
       "<matplotlib.colorbar.Colorbar at 0x7ff64e802790>"
      ]
     },
     "execution_count": 17,
     "metadata": {},
     "output_type": "execute_result"
    }
   ],
   "source": [
    "# picks = mne.pick_types(fwd['info'], meg='grad', eeg=False)\n",
    "# im = plt.imshow(leadfield[picks, :500], origin='lower', aspect='auto', cmap='RdBu_r')\n",
    "# plt.xlabel('sources')\n",
    "# plt.ylabel('sensors')\n",
    "# plt.title('Leadfield matrix for Gradiometers', fontsize=14)\n",
    "# plt.colorbar(cmap='RdBu_r')"
   ]
  },
  {
   "cell_type": "code",
   "execution_count": 18,
   "metadata": {},
   "outputs": [],
   "source": [
    "# plt.figure()\n",
    "# plt.hist(sens_map.data.ravel(), bins=20, label='Gradiometers', color='c')\n",
    "# plt.legend()\n",
    "# plt.title('Normal orientation sensitivity')\n",
    "# plt.xlabel('sensitivity')\n",
    "# plt.ylabel('count');"
   ]
  },
  {
   "cell_type": "code",
   "execution_count": 19,
   "metadata": {},
   "outputs": [
    {
     "data": {
      "text/plain": [
       "((180.0, 90.0, 432.1112365722656, array([0., 0., 0.])), 90.0)"
      ]
     },
     "execution_count": 19,
     "metadata": {},
     "output_type": "execute_result"
    }
   ],
   "source": [
    "# clim = dict(kind='percent', lims=(0, 50, 99), smoothing_steps=3)\n",
    "# brain = sens_map.plot(subject=subject, time_label='GRAD sensitivity',\n",
    "#                      subjects_dir=subjects_dir, clim=clim, smoothing_steps=8);\n",
    "# view = 'lat'\n",
    "# brain.show_view(view)"
   ]
  },
  {
   "cell_type": "code",
   "execution_count": null,
   "metadata": {},
   "outputs": [],
   "source": [
    "# brain.save_image('sensitivity_map_grad_%s.jpg' % view)\n",
    "# Image(filename='sensitivity_map_grad_%s.jpg' % view, width=400)"
   ]
  },
  {
   "cell_type": "code",
   "execution_count": null,
   "metadata": {},
   "outputs": [],
   "source": []
  }
 ],
 "metadata": {
  "kernelspec": {
   "display_name": "Python 3",
   "language": "python",
   "name": "python3"
  },
  "language_info": {
   "codemirror_mode": {
    "name": "ipython",
    "version": 3
   },
   "file_extension": ".py",
   "mimetype": "text/x-python",
   "name": "python",
   "nbconvert_exporter": "python",
   "pygments_lexer": "ipython3",
   "version": "3.7.6"
  }
 },
 "nbformat": 4,
 "nbformat_minor": 4
}

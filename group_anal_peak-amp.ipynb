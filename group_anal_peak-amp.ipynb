{
 "cells": [
  {
   "cell_type": "code",
   "execution_count": 1,
   "metadata": {},
   "outputs": [],
   "source": [
    "%matplotlib qt\n",
    "import matplotlib.pyplot as plt\n",
    "\n",
    "import os.path as op\n",
    "import numpy as np\n",
    "import mne\n",
    "\n",
    "mne.set_log_level('WARNING')\n",
    "\n",
    "subjects_dir = op.expanduser(\"~/data/pic-name-data-bids/MRI/\")\n",
    "res_dir = op.expanduser(\"~/research/results/pic_name\")"
   ]
  },
  {
   "cell_type": "code",
   "execution_count": 2,
   "metadata": {},
   "outputs": [],
   "source": [
    "def average_stc(subjects, res_dir):\n",
    "    stc_fnames = []\n",
    "    for subject in subjects:\n",
    "        stc_fnames.append(op.join(res_dir, subject + '/dspm_%s' % subject))\n",
    "    stcs = [mne.read_source_estimate(stc_fname) for stc_fname in stc_fnames]\n",
    "    return np.mean(stcs)\n",
    "\n",
    "def get_label(subjects_dir):\n",
    "    labels = mne.read_labels_from_annot('fsaverage', 'HCPMMP1', 'both',\n",
    "                                        subjects_dir=subjects_dir)\n",
    "    labels_vis = []\n",
    "    ROI = ['L_V1_ROI-lh', 'R_V1_ROI-rh']\n",
    "    for lbl in labels:\n",
    "        if lbl.name in ROI:\n",
    "            labels_vis.append(lbl)\n",
    "    label = labels_vis[0]\n",
    "    for i in range(1, len(labels_vis)):\n",
    "        label = label + labels_vis[i]\n",
    "    return label"
   ]
  },
  {
   "cell_type": "code",
   "execution_count": 3,
   "metadata": {},
   "outputs": [],
   "source": [
    "bili = [2, 8, 9, 12]\n",
    "clil = [6, 10, 11, 15]\n",
    "mono = [3, 4, 5, 13, 14]\n",
    "subjects_bili = [\"sub-%02d\" % i for i in bili]\n",
    "subjects_clil = [\"sub-%02d\" % i for i in clil]\n",
    "subjects_mono = [\"sub-%02d\" % i for i in mono]"
   ]
  },
  {
   "cell_type": "code",
   "execution_count": 4,
   "metadata": {},
   "outputs": [],
   "source": [
    "label = get_label(subjects_dir)\n",
    "average_stc_bili = average_stc(subjects_bili, res_dir)\n",
    "average_stc_clil = average_stc(subjects_clil, res_dir)\n",
    "average_stc_mono = average_stc(subjects_mono, res_dir)"
   ]
  },
  {
   "cell_type": "code",
   "execution_count": 5,
   "metadata": {},
   "outputs": [],
   "source": [
    "average_stc_bili_label = average_stc_bili.in_label(label)\n",
    "bili_mean = np.mean(average_stc_bili_label.data, axis=0)\n",
    "average_stc_clil_label = average_stc_clil.in_label(label)\n",
    "clil_mean = np.mean(average_stc_clil_label.data, axis=0)\n",
    "average_stc_mono_label = average_stc_mono.in_label(label)\n",
    "mono_mean = np.mean(average_stc_mono_label.data, axis=0)"
   ]
  },
  {
   "cell_type": "code",
   "execution_count": 6,
   "metadata": {},
   "outputs": [],
   "source": [
    "times = 1e3 * average_stc_bili_label.times # times in ms\n",
    "plt.figure()\n",
    "h0 = plt.plot(times, mono_mean, 'b', linewidth=3)\n",
    "h1, = plt.plot(times, bili_mean, 'g', linewidth=3)\n",
    "h1, = plt.plot(times, clil_mean, 'r', linewidth=3)\n",
    "plt.show()"
   ]
  },
  {
   "cell_type": "code",
   "execution_count": null,
   "metadata": {},
   "outputs": [],
   "source": [
    "initial_time = 0.24\n",
    "surfer_kwargs = dict(subject=\"fsaverage\",\n",
    "                     background=\"white\", foreground='black',\n",
    "                     cortex=(\"gray\", -1, 6, True), smoothing_steps=10,\n",
    "                     clim=dict(kind='value', lims=[2, 5, 6]),\n",
    "                     time_viewer=False)"
   ]
  },
  {
   "cell_type": "code",
   "execution_count": null,
   "metadata": {},
   "outputs": [],
   "source": [
    "brain_bili = average_stc_bili.plot(initial_time=initial_time, subjects_dir=subjects_dir, \n",
    "                              hemi=\"both\", views='dor', **surfer_kwargs)"
   ]
  },
  {
   "cell_type": "code",
   "execution_count": null,
   "metadata": {},
   "outputs": [],
   "source": [
    "brain_mono = average_stc_mono.plot(initial_time=initial_time, subjects_dir=subjects_dir, \n",
    "                              hemi=\"both\", views='dor', **surfer_kwargs)"
   ]
  },
  {
   "cell_type": "code",
   "execution_count": null,
   "metadata": {},
   "outputs": [],
   "source": [
    "brain_clil = average_stc_clil.plot(initial_time=initial_time, subjects_dir=subjects_dir, \n",
    "                              hemi=\"both\", views='dor', **surfer_kwargs)"
   ]
  },
  {
   "cell_type": "code",
   "execution_count": null,
   "metadata": {},
   "outputs": [],
   "source": [
    "# brain.save_image(op.join(res_dir, \"dspm_fsavg_t=400ms.png\"))"
   ]
  }
 ],
 "metadata": {
  "kernelspec": {
   "display_name": "Python 3",
   "language": "python",
   "name": "python3"
  },
  "language_info": {
   "codemirror_mode": {
    "name": "ipython",
    "version": 3
   },
   "file_extension": ".py",
   "mimetype": "text/x-python",
   "name": "python",
   "nbconvert_exporter": "python",
   "pygments_lexer": "ipython3",
   "version": "3.7.6"
  }
 },
 "nbformat": 4,
 "nbformat_minor": 4
}
